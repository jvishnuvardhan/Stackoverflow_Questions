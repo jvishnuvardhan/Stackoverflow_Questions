{
  "nbformat": 4,
  "nbformat_minor": 0,
  "metadata": {
    "colab": {
      "name": "Keras_model_checkpoint.ipynb",
      "provenance": [],
      "authorship_tag": "ABX9TyMJ1Y5wVfNVuM2NTTnNui3q",
      "include_colab_link": true
    },
    "kernelspec": {
      "name": "python3",
      "display_name": "Python 3"
    }
  },
  "cells": [
    {
      "cell_type": "markdown",
      "metadata": {
        "id": "view-in-github",
        "colab_type": "text"
      },
      "source": [
        "<a href=\"https://colab.research.google.com/github/jvishnuvardhan/Stackoverflow_Questions/blob/master/Keras_model_checkpoint.ipynb\" target=\"_parent\"><img src=\"https://colab.research.google.com/assets/colab-badge.svg\" alt=\"Open In Colab\"/></a>"
      ]
    },
    {
      "cell_type": "code",
      "metadata": {
        "id": "KhxFrjtvgkOJ",
        "colab_type": "code",
        "outputId": "f839b505-d126-4877-8578-6c47570dbbeb",
        "colab": {
          "base_uri": "https://localhost:8080/",
          "height": 768
        }
      },
      "source": [
        "!pip install tf-nightly"
      ],
      "execution_count": 1,
      "outputs": [
        {
          "output_type": "stream",
          "text": [
            "Collecting tf-nightly\n",
            "\u001b[?25l  Downloading https://files.pythonhosted.org/packages/cf/29/eaa43f27d2045ed4813c72e6f52d73b58ed603c5f1817c599993373bdf67/tf_nightly-2.2.0.dev20200405-cp36-cp36m-manylinux2010_x86_64.whl (517.1MB)\n",
            "\u001b[K     |████████████████████████████████| 517.1MB 28kB/s \n",
            "\u001b[?25hRequirement already satisfied: google-pasta>=0.1.8 in /usr/local/lib/python3.6/dist-packages (from tf-nightly) (0.2.0)\n",
            "Requirement already satisfied: absl-py>=0.7.0 in /usr/local/lib/python3.6/dist-packages (from tf-nightly) (0.9.0)\n",
            "Collecting tb-nightly<2.4.0a0,>=2.3.0a0\n",
            "\u001b[?25l  Downloading https://files.pythonhosted.org/packages/59/0b/446c007433c44a2aab87b34fc272afe8574a1c47cee35dbc19f6394dada8/tb_nightly-2.3.0a20200405-py3-none-any.whl (2.9MB)\n",
            "\u001b[K     |████████████████████████████████| 2.9MB 47.1MB/s \n",
            "\u001b[?25hRequirement already satisfied: gast==0.3.3 in /usr/local/lib/python3.6/dist-packages (from tf-nightly) (0.3.3)\n",
            "Requirement already satisfied: scipy==1.4.1; python_version >= \"3\" in /usr/local/lib/python3.6/dist-packages (from tf-nightly) (1.4.1)\n",
            "Requirement already satisfied: termcolor>=1.1.0 in /usr/local/lib/python3.6/dist-packages (from tf-nightly) (1.1.0)\n",
            "Requirement already satisfied: wheel>=0.26; python_version >= \"3\" in /usr/local/lib/python3.6/dist-packages (from tf-nightly) (0.34.2)\n",
            "Requirement already satisfied: protobuf>=3.9.2 in /usr/local/lib/python3.6/dist-packages (from tf-nightly) (3.10.0)\n",
            "Requirement already satisfied: keras-preprocessing>=1.1.0 in /usr/local/lib/python3.6/dist-packages (from tf-nightly) (1.1.0)\n",
            "Requirement already satisfied: numpy<2.0,>=1.16.0 in /usr/local/lib/python3.6/dist-packages (from tf-nightly) (1.18.2)\n",
            "Requirement already satisfied: h5py<2.11.0,>=2.10.0 in /usr/local/lib/python3.6/dist-packages (from tf-nightly) (2.10.0)\n",
            "Requirement already satisfied: opt-einsum>=2.3.2 in /usr/local/lib/python3.6/dist-packages (from tf-nightly) (3.2.0)\n",
            "Collecting tf-estimator-nightly\n",
            "\u001b[?25l  Downloading https://files.pythonhosted.org/packages/ca/94/373b909bdc1cd30015118d0c9da1b2be368c391691764181deb653b3d0ce/tf_estimator_nightly-2.3.0.dev2020040501-py2.py3-none-any.whl (455kB)\n",
            "\u001b[K     |████████████████████████████████| 460kB 34.1MB/s \n",
            "\u001b[?25hRequirement already satisfied: grpcio>=1.8.6 in /usr/local/lib/python3.6/dist-packages (from tf-nightly) (1.27.2)\n",
            "Requirement already satisfied: astunparse==1.6.3 in /usr/local/lib/python3.6/dist-packages (from tf-nightly) (1.6.3)\n",
            "Requirement already satisfied: six>=1.12.0 in /usr/local/lib/python3.6/dist-packages (from tf-nightly) (1.12.0)\n",
            "Requirement already satisfied: wrapt>=1.11.1 in /usr/local/lib/python3.6/dist-packages (from tf-nightly) (1.12.1)\n",
            "Requirement already satisfied: markdown>=2.6.8 in /usr/local/lib/python3.6/dist-packages (from tb-nightly<2.4.0a0,>=2.3.0a0->tf-nightly) (3.2.1)\n",
            "Requirement already satisfied: setuptools>=41.0.0 in /usr/local/lib/python3.6/dist-packages (from tb-nightly<2.4.0a0,>=2.3.0a0->tf-nightly) (46.0.0)\n",
            "Requirement already satisfied: google-auth<2,>=1.6.3 in /usr/local/lib/python3.6/dist-packages (from tb-nightly<2.4.0a0,>=2.3.0a0->tf-nightly) (1.7.2)\n",
            "Requirement already satisfied: requests<3,>=2.21.0 in /usr/local/lib/python3.6/dist-packages (from tb-nightly<2.4.0a0,>=2.3.0a0->tf-nightly) (2.21.0)\n",
            "Requirement already satisfied: tensorboard-plugin-wit>=1.6.0 in /usr/local/lib/python3.6/dist-packages (from tb-nightly<2.4.0a0,>=2.3.0a0->tf-nightly) (1.6.0.post2)\n",
            "Requirement already satisfied: werkzeug>=0.11.15 in /usr/local/lib/python3.6/dist-packages (from tb-nightly<2.4.0a0,>=2.3.0a0->tf-nightly) (1.0.1)\n",
            "Requirement already satisfied: google-auth-oauthlib<0.5,>=0.4.1 in /usr/local/lib/python3.6/dist-packages (from tb-nightly<2.4.0a0,>=2.3.0a0->tf-nightly) (0.4.1)\n",
            "Requirement already satisfied: rsa<4.1,>=3.1.4 in /usr/local/lib/python3.6/dist-packages (from google-auth<2,>=1.6.3->tb-nightly<2.4.0a0,>=2.3.0a0->tf-nightly) (4.0)\n",
            "Requirement already satisfied: pyasn1-modules>=0.2.1 in /usr/local/lib/python3.6/dist-packages (from google-auth<2,>=1.6.3->tb-nightly<2.4.0a0,>=2.3.0a0->tf-nightly) (0.2.8)\n",
            "Requirement already satisfied: cachetools<3.2,>=2.0.0 in /usr/local/lib/python3.6/dist-packages (from google-auth<2,>=1.6.3->tb-nightly<2.4.0a0,>=2.3.0a0->tf-nightly) (3.1.1)\n",
            "Requirement already satisfied: urllib3<1.25,>=1.21.1 in /usr/local/lib/python3.6/dist-packages (from requests<3,>=2.21.0->tb-nightly<2.4.0a0,>=2.3.0a0->tf-nightly) (1.24.3)\n",
            "Requirement already satisfied: certifi>=2017.4.17 in /usr/local/lib/python3.6/dist-packages (from requests<3,>=2.21.0->tb-nightly<2.4.0a0,>=2.3.0a0->tf-nightly) (2019.11.28)\n",
            "Requirement already satisfied: idna<2.9,>=2.5 in /usr/local/lib/python3.6/dist-packages (from requests<3,>=2.21.0->tb-nightly<2.4.0a0,>=2.3.0a0->tf-nightly) (2.8)\n",
            "Requirement already satisfied: chardet<3.1.0,>=3.0.2 in /usr/local/lib/python3.6/dist-packages (from requests<3,>=2.21.0->tb-nightly<2.4.0a0,>=2.3.0a0->tf-nightly) (3.0.4)\n",
            "Requirement already satisfied: requests-oauthlib>=0.7.0 in /usr/local/lib/python3.6/dist-packages (from google-auth-oauthlib<0.5,>=0.4.1->tb-nightly<2.4.0a0,>=2.3.0a0->tf-nightly) (1.3.0)\n",
            "Requirement already satisfied: pyasn1>=0.1.3 in /usr/local/lib/python3.6/dist-packages (from rsa<4.1,>=3.1.4->google-auth<2,>=1.6.3->tb-nightly<2.4.0a0,>=2.3.0a0->tf-nightly) (0.4.8)\n",
            "Requirement already satisfied: oauthlib>=3.0.0 in /usr/local/lib/python3.6/dist-packages (from requests-oauthlib>=0.7.0->google-auth-oauthlib<0.5,>=0.4.1->tb-nightly<2.4.0a0,>=2.3.0a0->tf-nightly) (3.1.0)\n",
            "Installing collected packages: tb-nightly, tf-estimator-nightly, tf-nightly\n",
            "Successfully installed tb-nightly-2.3.0a20200405 tf-estimator-nightly-2.3.0.dev2020040501 tf-nightly-2.2.0.dev20200405\n"
          ],
          "name": "stdout"
        }
      ]
    },
    {
      "cell_type": "code",
      "metadata": {
        "id": "mG6cJXGqgoJS",
        "colab_type": "code",
        "outputId": "45fdb83b-2c55-49dd-e2ce-96839edf1457",
        "colab": {
          "base_uri": "https://localhost:8080/",
          "height": 51
        }
      },
      "source": [
        "import tensorflow as tf\n",
        "from tensorflow import keras\n",
        "mnist = tf.keras.datasets.mnist\n",
        "\n",
        "(x_train, y_train),(x_test, y_test) = mnist.load_data()\n",
        "x_train, x_test = x_train / 255.0, x_test / 255.0\n",
        "  \n",
        "def create_model():\n",
        "  model = tf.keras.models.Sequential([\n",
        "    tf.keras.layers.Flatten(input_shape=(28, 28)),\n",
        "    tf.keras.layers.Dense(512, activation=tf.nn.relu),  \n",
        "    tf.keras.layers.Dropout(0.2),\n",
        "    tf.keras.layers.Dense(10, activation=tf.nn.softmax)\n",
        "    ])\n",
        "\n",
        "  model.compile(optimizer='adam', loss='sparse_categorical_crossentropy',metrics=['accuracy'])\n",
        "  return model"
      ],
      "execution_count": 2,
      "outputs": [
        {
          "output_type": "stream",
          "text": [
            "Downloading data from https://storage.googleapis.com/tensorflow/tf-keras-datasets/mnist.npz\n",
            "11493376/11490434 [==============================] - 0s 0us/step\n"
          ],
          "name": "stdout"
        }
      ]
    },
    {
      "cell_type": "code",
      "metadata": {
        "id": "9yQEQWbMgz9b",
        "colab_type": "code",
        "colab": {}
      },
      "source": [
        "import os\n",
        "checkpoint_path = \"./training_2/cp-{epoch:04d}.ckpt\"\n",
        "checkpoint_dir = os.path.dirname(checkpoint_path)\n",
        "\n",
        "cp_callback = tf.keras.callbacks.ModelCheckpoint(\n",
        "   checkpoint_path, verbose=1, save_weights_only=True,\n",
        "   # Save weights, every epoch.\n",
        "   save_freq='epoch')"
      ],
      "execution_count": 0,
      "outputs": []
    },
    {
      "cell_type": "code",
      "metadata": {
        "id": "4S5qgvg0g2ZK",
        "colab_type": "code",
        "colab": {
          "base_uri": "https://localhost:8080/",
          "height": 1000
        },
        "outputId": "9dcfbfc6-5dba-482a-ecb0-01f1094c4ab9"
      },
      "source": [
        "# Create a basic model instance\n",
        "model=create_model()\n",
        "model.save_weights(checkpoint_path.format(epoch=0))\n",
        "model.fit(x_train, y_train,\n",
        "         epochs = 50, callbacks = [cp_callback],\n",
        "         validation_data = (x_test,y_test),\n",
        "         verbose=0)"
      ],
      "execution_count": 5,
      "outputs": [
        {
          "output_type": "stream",
          "text": [
            "\n",
            "Epoch 00001: saving model to ./training_2/cp-0001.ckpt\n",
            "\n",
            "Epoch 00002: saving model to ./training_2/cp-0002.ckpt\n",
            "\n",
            "Epoch 00003: saving model to ./training_2/cp-0003.ckpt\n",
            "\n",
            "Epoch 00004: saving model to ./training_2/cp-0004.ckpt\n",
            "\n",
            "Epoch 00005: saving model to ./training_2/cp-0005.ckpt\n",
            "\n",
            "Epoch 00006: saving model to ./training_2/cp-0006.ckpt\n",
            "\n",
            "Epoch 00007: saving model to ./training_2/cp-0007.ckpt\n",
            "\n",
            "Epoch 00008: saving model to ./training_2/cp-0008.ckpt\n",
            "\n",
            "Epoch 00009: saving model to ./training_2/cp-0009.ckpt\n",
            "\n",
            "Epoch 00010: saving model to ./training_2/cp-0010.ckpt\n",
            "\n",
            "Epoch 00011: saving model to ./training_2/cp-0011.ckpt\n",
            "\n",
            "Epoch 00012: saving model to ./training_2/cp-0012.ckpt\n",
            "\n",
            "Epoch 00013: saving model to ./training_2/cp-0013.ckpt\n",
            "\n",
            "Epoch 00014: saving model to ./training_2/cp-0014.ckpt\n",
            "\n",
            "Epoch 00015: saving model to ./training_2/cp-0015.ckpt\n",
            "\n",
            "Epoch 00016: saving model to ./training_2/cp-0016.ckpt\n",
            "\n",
            "Epoch 00017: saving model to ./training_2/cp-0017.ckpt\n",
            "\n",
            "Epoch 00018: saving model to ./training_2/cp-0018.ckpt\n",
            "\n",
            "Epoch 00019: saving model to ./training_2/cp-0019.ckpt\n",
            "\n",
            "Epoch 00020: saving model to ./training_2/cp-0020.ckpt\n",
            "\n",
            "Epoch 00021: saving model to ./training_2/cp-0021.ckpt\n",
            "\n",
            "Epoch 00022: saving model to ./training_2/cp-0022.ckpt\n",
            "\n",
            "Epoch 00023: saving model to ./training_2/cp-0023.ckpt\n",
            "\n",
            "Epoch 00024: saving model to ./training_2/cp-0024.ckpt\n",
            "\n",
            "Epoch 00025: saving model to ./training_2/cp-0025.ckpt\n",
            "\n",
            "Epoch 00026: saving model to ./training_2/cp-0026.ckpt\n",
            "\n",
            "Epoch 00027: saving model to ./training_2/cp-0027.ckpt\n",
            "\n",
            "Epoch 00028: saving model to ./training_2/cp-0028.ckpt\n",
            "\n",
            "Epoch 00029: saving model to ./training_2/cp-0029.ckpt\n",
            "\n",
            "Epoch 00030: saving model to ./training_2/cp-0030.ckpt\n",
            "\n",
            "Epoch 00031: saving model to ./training_2/cp-0031.ckpt\n",
            "\n",
            "Epoch 00032: saving model to ./training_2/cp-0032.ckpt\n",
            "\n",
            "Epoch 00033: saving model to ./training_2/cp-0033.ckpt\n",
            "\n",
            "Epoch 00034: saving model to ./training_2/cp-0034.ckpt\n",
            "\n",
            "Epoch 00035: saving model to ./training_2/cp-0035.ckpt\n",
            "\n",
            "Epoch 00036: saving model to ./training_2/cp-0036.ckpt\n",
            "\n",
            "Epoch 00037: saving model to ./training_2/cp-0037.ckpt\n",
            "\n",
            "Epoch 00038: saving model to ./training_2/cp-0038.ckpt\n",
            "\n",
            "Epoch 00039: saving model to ./training_2/cp-0039.ckpt\n",
            "\n",
            "Epoch 00040: saving model to ./training_2/cp-0040.ckpt\n",
            "\n",
            "Epoch 00041: saving model to ./training_2/cp-0041.ckpt\n",
            "\n",
            "Epoch 00042: saving model to ./training_2/cp-0042.ckpt\n",
            "\n",
            "Epoch 00043: saving model to ./training_2/cp-0043.ckpt\n",
            "\n",
            "Epoch 00044: saving model to ./training_2/cp-0044.ckpt\n",
            "\n",
            "Epoch 00045: saving model to ./training_2/cp-0045.ckpt\n",
            "\n",
            "Epoch 00046: saving model to ./training_2/cp-0046.ckpt\n",
            "\n",
            "Epoch 00047: saving model to ./training_2/cp-0047.ckpt\n",
            "\n",
            "Epoch 00048: saving model to ./training_2/cp-0048.ckpt\n",
            "\n",
            "Epoch 00049: saving model to ./training_2/cp-0049.ckpt\n",
            "\n",
            "Epoch 00050: saving model to ./training_2/cp-0050.ckpt\n"
          ],
          "name": "stdout"
        },
        {
          "output_type": "execute_result",
          "data": {
            "text/plain": [
              "<tensorflow.python.keras.callbacks.History at 0x7f84a60b5e80>"
            ]
          },
          "metadata": {
            "tags": []
          },
          "execution_count": 5
        }
      ]
    }
  ]
}