{
  "nbformat": 4,
  "nbformat_minor": 0,
  "metadata": {
    "colab": {
      "name": "mnist_getting_output_of_each_layer.ipynb",
      "provenance": [],
      "authorship_tag": "ABX9TyOjUtvbbuLnhjcjDFnh2svm",
      "include_colab_link": true
    },
    "kernelspec": {
      "name": "python3",
      "display_name": "Python 3"
    }
  },
  "cells": [
    {
      "cell_type": "markdown",
      "metadata": {
        "id": "view-in-github",
        "colab_type": "text"
      },
      "source": [
        "<a href=\"https://colab.research.google.com/github/jvishnuvardhan/Stackoverflow_Questions/blob/master/mnist_getting_output_of_each_layer.ipynb\" target=\"_parent\"><img src=\"https://colab.research.google.com/assets/colab-badge.svg\" alt=\"Open In Colab\"/></a>"
      ]
    },
    {
      "cell_type": "code",
      "metadata": {
        "id": "GaZlZ3g8xHXF",
        "colab_type": "code",
        "colab": {}
      },
      "source": [
        "import tensorflow as tf"
      ],
      "execution_count": 0,
      "outputs": []
    },
    {
      "cell_type": "code",
      "metadata": {
        "id": "F5WBNUP6xLfX",
        "colab_type": "code",
        "outputId": "35b5962f-b60b-432f-e0f6-454868c0a572",
        "colab": {
          "base_uri": "https://localhost:8080/",
          "height": 51
        }
      },
      "source": [
        "mnist = tf.keras.datasets.mnist\n",
        "\n",
        "(x_train, y_train), (x_test, y_test) = mnist.load_data()\n",
        "x_train, x_test = x_train / 255.0, x_test / 255.\n",
        "# this is to demonstrate the importance of normalizing both training and testing data"
      ],
      "execution_count": 2,
      "outputs": [
        {
          "output_type": "stream",
          "text": [
            "Downloading data from https://storage.googleapis.com/tensorflow/tf-keras-datasets/mnist.npz\n",
            "11493376/11490434 [==============================] - 0s 0us/step\n"
          ],
          "name": "stdout"
        }
      ]
    },
    {
      "cell_type": "code",
      "metadata": {
        "id": "5bD77zo7xL_I",
        "colab_type": "code",
        "colab": {}
      },
      "source": [
        "model = tf.keras.models.Sequential([\n",
        "  tf.keras.layers.Flatten(input_shape=(28, 28),name='Input'),\n",
        "  tf.keras.layers.Dense(128, activation='relu',name='Dense1'),\n",
        "  tf.keras.layers.Dropout(0.2),\n",
        "  tf.keras.layers.Dense(10,name='Output')\n",
        "])"
      ],
      "execution_count": 0,
      "outputs": []
    },
    {
      "cell_type": "code",
      "metadata": {
        "id": "_fHRnra6xN9w",
        "colab_type": "code",
        "outputId": "fd80b4c6-8d8e-4f6d-b2f8-bcb73e3210c4",
        "colab": {
          "base_uri": "https://localhost:8080/",
          "height": 204
        }
      },
      "source": [
        "loss_fn = tf.keras.losses.SparseCategoricalCrossentropy(from_logits=True)\n",
        "model.compile(optimizer='adam',\n",
        "              loss=loss_fn,\n",
        "              metrics=['accuracy'])\n",
        "model.fit(x_train, y_train, epochs=5)"
      ],
      "execution_count": 4,
      "outputs": [
        {
          "output_type": "stream",
          "text": [
            "Epoch 1/5\n",
            "1875/1875 [==============================] - 4s 2ms/step - loss: 0.2959 - accuracy: 0.9142\n",
            "Epoch 2/5\n",
            "1875/1875 [==============================] - 4s 2ms/step - loss: 0.1415 - accuracy: 0.9584\n",
            "Epoch 3/5\n",
            "1875/1875 [==============================] - 4s 2ms/step - loss: 0.1075 - accuracy: 0.9672\n",
            "Epoch 4/5\n",
            "1875/1875 [==============================] - 4s 2ms/step - loss: 0.0892 - accuracy: 0.9729\n",
            "Epoch 5/5\n",
            "1875/1875 [==============================] - 4s 2ms/step - loss: 0.0742 - accuracy: 0.9763\n"
          ],
          "name": "stdout"
        },
        {
          "output_type": "execute_result",
          "data": {
            "text/plain": [
              "<tensorflow.python.keras.callbacks.History at 0x7f1546e08080>"
            ]
          },
          "metadata": {
            "tags": []
          },
          "execution_count": 4
        }
      ]
    },
    {
      "cell_type": "code",
      "metadata": {
        "id": "aSj3lQwRxlKu",
        "colab_type": "code",
        "outputId": "81a212cb-6c49-4789-b77a-f554dc3371e8",
        "colab": {
          "base_uri": "https://localhost:8080/",
          "height": 51
        }
      },
      "source": [
        "# evaluating on test data that was not normalized results in very high loss when compared to loss during training\n",
        "model.evaluate(x_test,  y_test, verbose=2)"
      ],
      "execution_count": 5,
      "outputs": [
        {
          "output_type": "stream",
          "text": [
            "313/313 - 0s - loss: 0.0744 - accuracy: 0.9761\n"
          ],
          "name": "stdout"
        },
        {
          "output_type": "execute_result",
          "data": {
            "text/plain": [
              "[0.07441482692956924, 0.9761000275611877]"
            ]
          },
          "metadata": {
            "tags": []
          },
          "execution_count": 5
        }
      ]
    },
    {
      "cell_type": "code",
      "metadata": {
        "id": "Mbvd89vyogZr",
        "colab_type": "code",
        "colab": {
          "base_uri": "https://localhost:8080/",
          "height": 102
        },
        "outputId": "ae64aa88-2dde-488b-aed3-c7602b9e5442"
      },
      "source": [
        "layer_names = [layer.name for layer in model.layers]\n",
        "print(layer_names)\n",
        "for layer_name in layer_names:\n",
        "  print(layer_name)"
      ],
      "execution_count": 17,
      "outputs": [
        {
          "output_type": "stream",
          "text": [
            "['Input', 'Dense1', 'dropout', 'Output']\n",
            "Input\n",
            "Dense1\n",
            "dropout\n",
            "Output\n"
          ],
          "name": "stdout"
        }
      ]
    },
    {
      "cell_type": "code",
      "metadata": {
        "id": "4TDPX4j7pEw5",
        "colab_type": "code",
        "colab": {
          "base_uri": "https://localhost:8080/",
          "height": 34
        },
        "outputId": "d280e31d-3a85-4ae6-d88f-4a6ddd02f33b"
      },
      "source": [
        "print(layer_names[0])"
      ],
      "execution_count": 18,
      "outputs": [
        {
          "output_type": "stream",
          "text": [
            "Input\n"
          ],
          "name": "stdout"
        }
      ]
    },
    {
      "cell_type": "code",
      "metadata": {
        "id": "uAvMueIgl81k",
        "colab_type": "code",
        "colab": {
          "base_uri": "https://localhost:8080/",
          "height": 1000
        },
        "outputId": "5d557e65-560b-4d2b-b6d7-ebd9f0d3b2b9"
      },
      "source": [
        "#Getting output of each layer\n",
        "from tensorflow.keras import backend as K\n",
        "\n",
        "inp = model.input                                           # input \n",
        "outputs = [layer.output for layer in model.layers]          # all layer outputs\n",
        "functors = [K.function([inp], [out]) for out in outputs]    # evaluation functions\n",
        "\n",
        "# Testing\n",
        "test = test = x_test[1]\n",
        "count = 0\n",
        "for func in functors:\n",
        "  print('\\n')\n",
        "  print(\"Layer Name: \",layer_names[count])\n",
        "  print('\\n')\n",
        "  print(func([test]))\n",
        "  count+=1"
      ],
      "execution_count": 24,
      "outputs": [
        {
          "output_type": "stream",
          "text": [
            "\n",
            "\n",
            "Layer Name:  Input\n",
            "\n",
            "\n",
            "[array([[0.        , 0.        , 0.        , 0.        , 0.        ,\n",
            "        0.        , 0.        , 0.        , 0.        , 0.        ,\n",
            "        0.        , 0.        , 0.        , 0.        , 0.        ,\n",
            "        0.        , 0.        , 0.        , 0.        , 0.        ,\n",
            "        0.        , 0.        , 0.        , 0.        , 0.        ,\n",
            "        0.        , 0.        , 0.        , 0.        , 0.        ,\n",
            "        0.        , 0.        , 0.        , 0.        , 0.        ,\n",
            "        0.        , 0.        , 0.        , 0.        , 0.        ,\n",
            "        0.        , 0.        , 0.        , 0.        , 0.        ,\n",
            "        0.        , 0.        , 0.        , 0.        , 0.        ,\n",
            "        0.        , 0.        , 0.        , 0.        , 0.        ,\n",
            "        0.        , 0.        , 0.        , 0.        , 0.        ,\n",
            "        0.        , 0.        , 0.        , 0.        , 0.        ,\n",
            "        0.        , 0.        , 0.        , 0.        , 0.        ,\n",
            "        0.        , 0.        , 0.        , 0.        , 0.        ,\n",
            "        0.        , 0.        , 0.        , 0.        , 0.        ,\n",
            "        0.        , 0.        , 0.        , 0.        , 0.        ,\n",
            "        0.        , 0.        , 0.        , 0.        , 0.        ,\n",
            "        0.        , 0.        , 0.        , 0.        , 0.45490196,\n",
            "        0.49019608, 0.67058825, 1.        , 1.        , 0.5882353 ,\n",
            "        0.3647059 , 0.        , 0.        , 0.        , 0.        ,\n",
            "        0.        , 0.        , 0.        , 0.        , 0.        ,\n",
            "        0.        , 0.        , 0.        , 0.        , 0.        ,\n",
            "        0.        , 0.        , 0.        , 0.        , 0.        ,\n",
            "        0.        , 0.6627451 , 0.99215686, 0.99215686, 0.99215686,\n",
            "        0.99215686, 0.99215686, 0.99215686, 0.85490197, 0.11764706,\n",
            "        0.        , 0.        , 0.        , 0.        , 0.        ,\n",
            "        0.        , 0.        , 0.        , 0.        , 0.        ,\n",
            "        0.        , 0.        , 0.        , 0.        , 0.        ,\n",
            "        0.        , 0.        , 0.        , 0.6627451 , 0.99215686,\n",
            "        0.99215686, 0.99215686, 0.8352941 , 0.5568628 , 0.6901961 ,\n",
            "        0.99215686, 0.99215686, 0.47843137, 0.        , 0.        ,\n",
            "        0.        , 0.        , 0.        , 0.        , 0.        ,\n",
            "        0.        , 0.        , 0.        , 0.        , 0.        ,\n",
            "        0.        , 0.        , 0.        , 0.        , 0.        ,\n",
            "        0.20392157, 0.98039216, 0.99215686, 0.8235294 , 0.1254902 ,\n",
            "        0.04705882, 0.        , 0.02352941, 0.80784315, 0.99215686,\n",
            "        0.54901963, 0.        , 0.        , 0.        , 0.        ,\n",
            "        0.        , 0.        , 0.        , 0.        , 0.        ,\n",
            "        0.        , 0.        , 0.        , 0.        , 0.        ,\n",
            "        0.        , 0.        , 0.        , 0.3019608 , 0.9843137 ,\n",
            "        0.8235294 , 0.09803922, 0.        , 0.        , 0.        ,\n",
            "        0.47843137, 0.972549  , 0.99215686, 0.25490198, 0.        ,\n",
            "        0.        , 0.        , 0.        , 0.        , 0.        ,\n",
            "        0.        , 0.        , 0.        , 0.        , 0.        ,\n",
            "        0.        , 0.        , 0.        , 0.        , 0.        ,\n",
            "        0.        , 0.        , 0.12156863, 0.07058824, 0.        ,\n",
            "        0.        , 0.        , 0.        , 0.81960785, 0.99215686,\n",
            "        0.99215686, 0.25490198, 0.        , 0.        , 0.        ,\n",
            "        0.        , 0.        , 0.        , 0.        , 0.        ,\n",
            "        0.        , 0.        , 0.        , 0.        , 0.        ,\n",
            "        0.        , 0.        , 0.        , 0.        , 0.        ,\n",
            "        0.        , 0.        , 0.        , 0.        , 0.        ,\n",
            "        0.45882353, 0.96862745, 0.99215686, 0.7764706 , 0.03921569,\n",
            "        0.        , 0.        , 0.        , 0.        , 0.        ,\n",
            "        0.        , 0.        , 0.        , 0.        , 0.        ,\n",
            "        0.        , 0.        , 0.        , 0.        , 0.        ,\n",
            "        0.        , 0.        , 0.        , 0.        , 0.        ,\n",
            "        0.        , 0.        , 0.29803923, 0.96862745, 0.99215686,\n",
            "        0.90588236, 0.24705882, 0.        , 0.        , 0.        ,\n",
            "        0.        , 0.        , 0.        , 0.        , 0.        ,\n",
            "        0.        , 0.        , 0.        , 0.        , 0.        ,\n",
            "        0.        , 0.        , 0.        , 0.        , 0.        ,\n",
            "        0.        , 0.        , 0.        , 0.        , 0.        ,\n",
            "        0.5019608 , 0.99215686, 0.99215686, 0.5647059 , 0.        ,\n",
            "        0.        , 0.        , 0.        , 0.        , 0.        ,\n",
            "        0.        , 0.        , 0.        , 0.        , 0.        ,\n",
            "        0.        , 0.        , 0.        , 0.        , 0.        ,\n",
            "        0.        , 0.        , 0.        , 0.        , 0.        ,\n",
            "        0.        , 0.        , 0.6901961 , 0.9647059 , 0.99215686,\n",
            "        0.62352943, 0.04705882, 0.        , 0.        , 0.        ,\n",
            "        0.        , 0.        , 0.        , 0.        , 0.        ,\n",
            "        0.        , 0.        , 0.        , 0.        , 0.        ,\n",
            "        0.        , 0.        , 0.        , 0.        , 0.        ,\n",
            "        0.        , 0.        , 0.        , 0.        , 0.09803922,\n",
            "        0.91764706, 0.99215686, 0.9137255 , 0.13725491, 0.        ,\n",
            "        0.        , 0.        , 0.        , 0.        , 0.        ,\n",
            "        0.        , 0.        , 0.        , 0.        , 0.        ,\n",
            "        0.        , 0.        , 0.        , 0.        , 0.        ,\n",
            "        0.        , 0.        , 0.        , 0.        , 0.        ,\n",
            "        0.        , 0.        , 0.7764706 , 0.99215686, 0.99215686,\n",
            "        0.5529412 , 0.        , 0.        , 0.        , 0.        ,\n",
            "        0.        , 0.        , 0.        , 0.        , 0.        ,\n",
            "        0.        , 0.        , 0.        , 0.        , 0.        ,\n",
            "        0.        , 0.        , 0.        , 0.        , 0.        ,\n",
            "        0.        , 0.        , 0.        , 0.        , 0.30588236,\n",
            "        0.972549  , 0.99215686, 0.7411765 , 0.04705882, 0.        ,\n",
            "        0.        , 0.        , 0.        , 0.        , 0.        ,\n",
            "        0.        , 0.        , 0.        , 0.        , 0.        ,\n",
            "        0.        , 0.        , 0.        , 0.        , 0.        ,\n",
            "        0.        , 0.        , 0.        , 0.        , 0.        ,\n",
            "        0.        , 0.07450981, 0.78431374, 0.99215686, 0.99215686,\n",
            "        0.5529412 , 0.        , 0.        , 0.        , 0.        ,\n",
            "        0.        , 0.        , 0.        , 0.        , 0.        ,\n",
            "        0.        , 0.        , 0.        , 0.        , 0.        ,\n",
            "        0.        , 0.        , 0.        , 0.        , 0.        ,\n",
            "        0.        , 0.        , 0.        , 0.        , 0.5254902 ,\n",
            "        0.99215686, 0.99215686, 0.6784314 , 0.04705882, 0.        ,\n",
            "        0.        , 0.        , 0.        , 0.        , 0.        ,\n",
            "        0.        , 0.        , 0.        , 0.        , 0.        ,\n",
            "        0.        , 0.        , 0.        , 0.        , 0.        ,\n",
            "        0.        , 0.        , 0.        , 0.        , 0.        ,\n",
            "        0.        , 0.        , 0.972549  , 0.99215686, 0.99215686,\n",
            "        0.09803922, 0.        , 0.        , 0.        , 0.        ,\n",
            "        0.        , 0.        , 0.        , 0.        , 0.        ,\n",
            "        0.        , 0.        , 0.        , 0.        , 0.        ,\n",
            "        0.        , 0.        , 0.        , 0.        , 0.        ,\n",
            "        0.        , 0.        , 0.        , 0.        , 0.        ,\n",
            "        0.972549  , 0.99215686, 0.99215686, 0.16862746, 0.07843138,\n",
            "        0.07843138, 0.07843138, 0.07843138, 0.01960784, 0.        ,\n",
            "        0.01960784, 0.07843138, 0.07843138, 0.14509805, 0.5882353 ,\n",
            "        0.5882353 , 0.5882353 , 0.5764706 , 0.03921569, 0.        ,\n",
            "        0.        , 0.        , 0.        , 0.        , 0.        ,\n",
            "        0.        , 0.        , 0.        , 0.972549  , 0.99215686,\n",
            "        0.99215686, 0.99215686, 0.99215686, 0.99215686, 0.99215686,\n",
            "        0.99215686, 0.65882355, 0.56078434, 0.6509804 , 0.99215686,\n",
            "        0.99215686, 0.99215686, 0.99215686, 0.99215686, 0.99215686,\n",
            "        0.99215686, 0.48235294, 0.        , 0.        , 0.        ,\n",
            "        0.        , 0.        , 0.        , 0.        , 0.        ,\n",
            "        0.        , 0.68235296, 0.99215686, 0.99215686, 0.99215686,\n",
            "        0.99215686, 0.99215686, 0.99215686, 0.99215686, 0.99215686,\n",
            "        0.99215686, 0.99215686, 0.99215686, 0.9764706 , 0.96862745,\n",
            "        0.96862745, 0.6627451 , 0.45882353, 0.45882353, 0.22352941,\n",
            "        0.        , 0.        , 0.        , 0.        , 0.        ,\n",
            "        0.        , 0.        , 0.        , 0.        , 0.        ,\n",
            "        0.4627451 , 0.48235294, 0.48235294, 0.48235294, 0.6509804 ,\n",
            "        0.99215686, 0.99215686, 0.99215686, 0.60784316, 0.48235294,\n",
            "        0.48235294, 0.16078432, 0.        , 0.        , 0.        ,\n",
            "        0.        , 0.        , 0.        , 0.        , 0.        ,\n",
            "        0.        , 0.        , 0.        , 0.        , 0.        ,\n",
            "        0.        , 0.        , 0.        , 0.        , 0.        ,\n",
            "        0.        , 0.        , 0.        , 0.        , 0.        ,\n",
            "        0.        , 0.        , 0.        , 0.        , 0.        ,\n",
            "        0.        , 0.        , 0.        , 0.        , 0.        ,\n",
            "        0.        , 0.        , 0.        , 0.        , 0.        ,\n",
            "        0.        , 0.        , 0.        , 0.        , 0.        ,\n",
            "        0.        , 0.        , 0.        , 0.        , 0.        ,\n",
            "        0.        , 0.        , 0.        , 0.        , 0.        ,\n",
            "        0.        , 0.        , 0.        , 0.        , 0.        ,\n",
            "        0.        , 0.        , 0.        , 0.        , 0.        ,\n",
            "        0.        , 0.        , 0.        , 0.        , 0.        ,\n",
            "        0.        , 0.        , 0.        , 0.        , 0.        ,\n",
            "        0.        , 0.        , 0.        , 0.        , 0.        ,\n",
            "        0.        , 0.        , 0.        , 0.        , 0.        ,\n",
            "        0.        , 0.        , 0.        , 0.        , 0.        ,\n",
            "        0.        , 0.        , 0.        , 0.        , 0.        ,\n",
            "        0.        , 0.        , 0.        , 0.        , 0.        ,\n",
            "        0.        , 0.        , 0.        , 0.        , 0.        ,\n",
            "        0.        , 0.        , 0.        , 0.        , 0.        ,\n",
            "        0.        , 0.        , 0.        , 0.        , 0.        ,\n",
            "        0.        , 0.        , 0.        , 0.        , 0.        ,\n",
            "        0.        , 0.        , 0.        , 0.        , 0.        ,\n",
            "        0.        , 0.        , 0.        , 0.        , 0.        ,\n",
            "        0.        , 0.        , 0.        , 0.        , 0.        ,\n",
            "        0.        , 0.        , 0.        , 0.        , 0.        ,\n",
            "        0.        , 0.        , 0.        , 0.        , 0.        ,\n",
            "        0.        , 0.        , 0.        , 0.        ]], dtype=float32)]\n",
            "\n",
            "\n",
            "Layer Name:  Dense1\n",
            "\n",
            "\n",
            "[array([[0.        , 0.        , 2.6873782 , 0.        , 4.301699  ,\n",
            "        2.2517223 , 0.        , 0.        , 0.        , 0.        ,\n",
            "        0.        , 0.02520584, 0.062608  , 0.09405245, 0.        ,\n",
            "        0.94233054, 0.        , 0.        , 0.        , 2.3189197 ,\n",
            "        5.8653398 , 1.2094576 , 0.        , 0.        , 0.        ,\n",
            "        3.8838072 , 0.        , 0.        , 0.        , 0.        ,\n",
            "        0.        , 0.        , 0.        , 0.        , 2.6800902 ,\n",
            "        0.        , 0.        , 1.3758816 , 0.        , 1.2470031 ,\n",
            "        0.        , 3.5515525 , 0.        , 3.0788705 , 0.        ,\n",
            "        0.        , 0.        , 0.74639815, 0.        , 0.11530315,\n",
            "        0.7761879 , 0.        , 0.        , 0.        , 0.        ,\n",
            "        0.27543172, 0.        , 0.        , 0.        , 5.616335  ,\n",
            "        2.0682514 , 1.6984862 , 0.60632634, 0.        , 0.        ,\n",
            "        0.        , 0.        , 2.1793938 , 4.022018  , 0.        ,\n",
            "        0.5615901 , 0.00905294, 0.51825064, 0.        , 0.        ,\n",
            "        0.62032074, 1.524802  , 0.        , 0.        , 0.        ,\n",
            "        0.        , 0.        , 0.        , 1.3511586 , 0.3032093 ,\n",
            "        0.        , 2.915873  , 0.45299244, 0.7080764 , 3.0395944 ,\n",
            "        0.        , 0.        , 1.3932481 , 1.6971538 , 0.        ,\n",
            "        0.        , 0.        , 2.686816  , 0.        , 0.        ,\n",
            "        0.        , 0.        , 0.        , 0.        , 2.4500203 ,\n",
            "        0.        , 2.2944973 , 0.7998942 , 0.        , 0.        ,\n",
            "        0.        , 0.        , 0.        , 0.        , 0.        ,\n",
            "        0.        , 0.        , 0.08477856, 3.8052158 , 0.        ,\n",
            "        0.        , 7.0752583 , 0.        , 5.960824  , 3.1145182 ,\n",
            "        1.219557  , 0.        , 0.        ]], dtype=float32)]\n",
            "\n",
            "\n",
            "Layer Name:  dropout\n",
            "\n",
            "\n",
            "[array([[0.        , 0.        , 2.6873782 , 0.        , 4.301699  ,\n",
            "        2.2517223 , 0.        , 0.        , 0.        , 0.        ,\n",
            "        0.        , 0.02520584, 0.062608  , 0.09405245, 0.        ,\n",
            "        0.94233054, 0.        , 0.        , 0.        , 2.3189197 ,\n",
            "        5.8653398 , 1.2094576 , 0.        , 0.        , 0.        ,\n",
            "        3.8838072 , 0.        , 0.        , 0.        , 0.        ,\n",
            "        0.        , 0.        , 0.        , 0.        , 2.6800902 ,\n",
            "        0.        , 0.        , 1.3758816 , 0.        , 1.2470031 ,\n",
            "        0.        , 3.5515525 , 0.        , 3.0788705 , 0.        ,\n",
            "        0.        , 0.        , 0.74639815, 0.        , 0.11530315,\n",
            "        0.7761879 , 0.        , 0.        , 0.        , 0.        ,\n",
            "        0.27543172, 0.        , 0.        , 0.        , 5.616335  ,\n",
            "        2.0682514 , 1.6984862 , 0.60632634, 0.        , 0.        ,\n",
            "        0.        , 0.        , 2.1793938 , 4.022018  , 0.        ,\n",
            "        0.5615901 , 0.00905294, 0.51825064, 0.        , 0.        ,\n",
            "        0.62032074, 1.524802  , 0.        , 0.        , 0.        ,\n",
            "        0.        , 0.        , 0.        , 1.3511586 , 0.3032093 ,\n",
            "        0.        , 2.915873  , 0.45299244, 0.7080764 , 3.0395944 ,\n",
            "        0.        , 0.        , 1.3932481 , 1.6971538 , 0.        ,\n",
            "        0.        , 0.        , 2.686816  , 0.        , 0.        ,\n",
            "        0.        , 0.        , 0.        , 0.        , 2.4500203 ,\n",
            "        0.        , 2.2944973 , 0.7998942 , 0.        , 0.        ,\n",
            "        0.        , 0.        , 0.        , 0.        , 0.        ,\n",
            "        0.        , 0.        , 0.08477856, 3.8052158 , 0.        ,\n",
            "        0.        , 7.0752583 , 0.        , 5.960824  , 3.1145182 ,\n",
            "        1.219557  , 0.        , 0.        ]], dtype=float32)]\n",
            "\n",
            "\n",
            "Layer Name:  Output\n",
            "\n",
            "\n",
            "[array([[ -1.1794405 ,   4.3457894 ,  12.677132  ,   3.0850823 ,\n",
            "        -18.225595  ,  -0.14935763,  -1.4954748 , -17.402382  ,\n",
            "          0.4824574 , -16.503132  ]], dtype=float32)]\n"
          ],
          "name": "stdout"
        }
      ]
    },
    {
      "cell_type": "code",
      "metadata": {
        "id": "MX4URuOZl992",
        "colab_type": "code",
        "colab": {
          "base_uri": "https://localhost:8080/",
          "height": 164
        },
        "outputId": "95155059-fb53-4121-c654-c57c0035a141"
      },
      "source": [
        "layer_outs.shape"
      ],
      "execution_count": 13,
      "outputs": [
        {
          "output_type": "error",
          "ename": "AttributeError",
          "evalue": "ignored",
          "traceback": [
            "\u001b[0;31m---------------------------------------------------------------------------\u001b[0m",
            "\u001b[0;31mAttributeError\u001b[0m                            Traceback (most recent call last)",
            "\u001b[0;32m<ipython-input-13-b5c93e2fa733>\u001b[0m in \u001b[0;36m<module>\u001b[0;34m()\u001b[0m\n\u001b[0;32m----> 1\u001b[0;31m \u001b[0mlayer_outs\u001b[0m\u001b[0;34m.\u001b[0m\u001b[0mshape\u001b[0m\u001b[0;34m\u001b[0m\u001b[0;34m\u001b[0m\u001b[0m\n\u001b[0m",
            "\u001b[0;31mAttributeError\u001b[0m: 'list' object has no attribute 'shape'"
          ]
        }
      ]
    },
    {
      "cell_type": "code",
      "metadata": {
        "id": "vAQCYI_enIjz",
        "colab_type": "code",
        "colab": {}
      },
      "source": [
        ""
      ],
      "execution_count": 0,
      "outputs": []
    }
  ]
}