{
  "nbformat": 4,
  "nbformat_minor": 0,
  "metadata": {
    "colab": {
      "name": "39223_cpu.ipynb",
      "provenance": [],
      "authorship_tag": "ABX9TyP287kpVLte2NhaRtC/s0zd",
      "include_colab_link": true
    },
    "kernelspec": {
      "name": "python3",
      "display_name": "Python 3"
    }
  },
  "cells": [
    {
      "cell_type": "markdown",
      "metadata": {
        "id": "view-in-github",
        "colab_type": "text"
      },
      "source": [
        "<a href=\"https://colab.research.google.com/github/jvishnuvardhan/Stackoverflow_Questions/blob/master/39223_cpu.ipynb\" target=\"_parent\"><img src=\"https://colab.research.google.com/assets/colab-badge.svg\" alt=\"Open In Colab\"/></a>"
      ]
    },
    {
      "cell_type": "code",
      "metadata": {
        "id": "8RmXVqoj9C92",
        "colab_type": "code",
        "outputId": "e9549f4a-1aa2-4362-a91b-3a69c68c419c",
        "colab": {
          "base_uri": "https://localhost:8080/",
          "height": 666
        }
      },
      "source": [
        "!pip install tensorflow==1.13.2"
      ],
      "execution_count": 0,
      "outputs": [
        {
          "output_type": "stream",
          "text": [
            "Collecting tensorflow==1.13.2\n",
            "\u001b[?25l  Downloading https://files.pythonhosted.org/packages/db/d3/651f95288a6cd9094f7411cdd90ef12a3d01a268009e0e3cd66b5c8d65bd/tensorflow-1.13.2-cp36-cp36m-manylinux1_x86_64.whl (92.6MB)\n",
            "\u001b[K     |████████████████████████████████| 92.6MB 67kB/s \n",
            "\u001b[?25hCollecting tensorboard<1.14.0,>=1.13.0\n",
            "\u001b[?25l  Downloading https://files.pythonhosted.org/packages/0f/39/bdd75b08a6fba41f098b6cb091b9e8c7a80e1b4d679a581a0ccd17b10373/tensorboard-1.13.1-py3-none-any.whl (3.2MB)\n",
            "\u001b[K     |████████████████████████████████| 3.2MB 34.4MB/s \n",
            "\u001b[?25hRequirement already satisfied: grpcio>=1.8.6 in /usr/local/lib/python3.6/dist-packages (from tensorflow==1.13.2) (1.28.1)\n",
            "Requirement already satisfied: keras-applications>=1.0.6 in /usr/local/lib/python3.6/dist-packages (from tensorflow==1.13.2) (1.0.8)\n",
            "Requirement already satisfied: astor>=0.6.0 in /usr/local/lib/python3.6/dist-packages (from tensorflow==1.13.2) (0.8.1)\n",
            "Requirement already satisfied: gast>=0.2.0 in /usr/local/lib/python3.6/dist-packages (from tensorflow==1.13.2) (0.3.3)\n",
            "Collecting tensorflow-estimator<1.14.0rc0,>=1.13.0\n",
            "\u001b[?25l  Downloading https://files.pythonhosted.org/packages/bb/48/13f49fc3fa0fdf916aa1419013bb8f2ad09674c275b4046d5ee669a46873/tensorflow_estimator-1.13.0-py2.py3-none-any.whl (367kB)\n",
            "\u001b[K     |████████████████████████████████| 368kB 48.4MB/s \n",
            "\u001b[?25hRequirement already satisfied: termcolor>=1.1.0 in /usr/local/lib/python3.6/dist-packages (from tensorflow==1.13.2) (1.1.0)\n",
            "Requirement already satisfied: wheel>=0.26 in /usr/local/lib/python3.6/dist-packages (from tensorflow==1.13.2) (0.34.2)\n",
            "Requirement already satisfied: keras-preprocessing>=1.0.5 in /usr/local/lib/python3.6/dist-packages (from tensorflow==1.13.2) (1.1.0)\n",
            "Requirement already satisfied: six>=1.10.0 in /usr/local/lib/python3.6/dist-packages (from tensorflow==1.13.2) (1.12.0)\n",
            "Requirement already satisfied: numpy<2.0,>=1.16.0 in /usr/local/lib/python3.6/dist-packages (from tensorflow==1.13.2) (1.18.3)\n",
            "Requirement already satisfied: protobuf>=3.6.1 in /usr/local/lib/python3.6/dist-packages (from tensorflow==1.13.2) (3.10.0)\n",
            "Requirement already satisfied: absl-py>=0.1.6 in /usr/local/lib/python3.6/dist-packages (from tensorflow==1.13.2) (0.9.0)\n",
            "Requirement already satisfied: werkzeug>=0.11.15 in /usr/local/lib/python3.6/dist-packages (from tensorboard<1.14.0,>=1.13.0->tensorflow==1.13.2) (1.0.1)\n",
            "Requirement already satisfied: markdown>=2.6.8 in /usr/local/lib/python3.6/dist-packages (from tensorboard<1.14.0,>=1.13.0->tensorflow==1.13.2) (3.2.1)\n",
            "Requirement already satisfied: h5py in /usr/local/lib/python3.6/dist-packages (from keras-applications>=1.0.6->tensorflow==1.13.2) (2.10.0)\n",
            "Collecting mock>=2.0.0\n",
            "  Downloading https://files.pythonhosted.org/packages/cd/74/d72daf8dff5b6566db857cfd088907bb0355f5dd2914c4b3ef065c790735/mock-4.0.2-py3-none-any.whl\n",
            "Requirement already satisfied: setuptools in /usr/local/lib/python3.6/dist-packages (from protobuf>=3.6.1->tensorflow==1.13.2) (46.1.3)\n",
            "Installing collected packages: tensorboard, mock, tensorflow-estimator, tensorflow\n",
            "  Found existing installation: tensorboard 2.2.1\n",
            "    Uninstalling tensorboard-2.2.1:\n",
            "      Successfully uninstalled tensorboard-2.2.1\n",
            "  Found existing installation: tensorflow-estimator 2.2.0\n",
            "    Uninstalling tensorflow-estimator-2.2.0:\n",
            "      Successfully uninstalled tensorflow-estimator-2.2.0\n",
            "  Found existing installation: tensorflow 2.2.0rc4\n",
            "    Uninstalling tensorflow-2.2.0rc4:\n",
            "      Successfully uninstalled tensorflow-2.2.0rc4\n",
            "Successfully installed mock-4.0.2 tensorboard-1.13.1 tensorflow-1.13.2 tensorflow-estimator-1.13.0\n"
          ],
          "name": "stdout"
        }
      ]
    },
    {
      "cell_type": "code",
      "metadata": {
        "id": "QY-v3z3e9F1u",
        "colab_type": "code",
        "outputId": "393d39c2-5d84-4ee0-ecb6-a3d03d93b2ea",
        "colab": {
          "base_uri": "https://localhost:8080/",
          "height": 561
        }
      },
      "source": [
        "import tensorflow as tf\n",
        "from tensorflow.keras.layers import Input, Flatten, Dense, Lambda, Conv2D, Reshape, MaxPool2D, Average, Dropout, Concatenate, \\\n",
        "    Add, Maximum, Layer, Activation, Conv1D, TimeDistributed, GlobalAvgPool2D\n",
        "import numpy as np\n",
        "\n",
        "\n",
        "class Test(tf.keras.Model):\n",
        "    def __init__(self,attention_sz,dropout_rt, name=None):\n",
        "        super(Test, self).__init__(name=name)\n",
        "        # here we define the layer:\n",
        "        self.fc = Dense(attention_sz,input_dim = attention_sz ,activation='relu')\n",
        "        self.fc2 = Dense(attention_sz, activation='relu')\n",
        "        self.fc3 = Dense(1) #, activation='sigmoid'\n",
        "\n",
        "        self.dp = Dropout(dropout_rt,input_shape=(attention_sz,))\n",
        "        self.dp2 = Dropout(dropout_rt,input_shape=(attention_sz,))\n",
        "\n",
        "\n",
        "    def call(self, inp):\n",
        "        # here we get the segmentation and pose\n",
        "        with tf.device('/gpu:0'):\n",
        "          print(\"~~~~~~~~~~~\")\n",
        "          x = self.fc(inp)\n",
        "          print(x.shape)\n",
        "          z = self.dp(x)\n",
        "          print(z.shape)\n",
        "          x = self.fc2(z)\n",
        "          print(x.shape)\n",
        "          z = self.dp2(x)\n",
        "          print(z.shape)\n",
        "          y = self.fc3(z)\n",
        "          print(y.shape)\n",
        "        return y \n",
        "\n",
        "if __name__ == '__main__':\n",
        "    model  = Test(1024, 0.05)\n",
        "    loss = tf.keras.losses.BinaryCrossentropy(from_logits=True)\n",
        "    model.compile(optimizer='rmsprop',\n",
        "                  loss=loss, #'binary_crossentropy'\n",
        "                  metrics=['accuracy'])\n",
        "    x = np.round(np.random.normal(1.75, 0.2, size=(10000, 1024)), 2)\n",
        "    x2 = np.round(np.random.normal(100.75, 0.2, size=(10000, 1024)), 2)\n",
        "    labels = np.zeros((10000, 1))\n",
        "    labels2 = np.ones((10000, 1))\n",
        "\n",
        "    x_t = np.row_stack((x, x2))\n",
        "    labels = np.row_stack((labels,labels2))\n",
        "    print(x_t.shape)\n",
        "    print(labels.shape)\n",
        "    model.fit(x_t, labels, shuffle=True, epochs=10, batch_size=32)\n",
        "    x = np.round(np.random.normal(1.75, 0.2, size=(1, 1024)), 2)\n",
        "    y = np.round(np.random.normal(100.75, 0.2, size=(1, 1024)), 2)\n",
        "    res = model.predict(x)\n",
        "    print(res)\n",
        "    print(res.shape)\n",
        "    res = model.predict(y)\n",
        "    print(res)\n",
        "    print(res.shape)"
      ],
      "execution_count": 0,
      "outputs": [
        {
          "output_type": "stream",
          "text": [
            "(20000, 1024)\n",
            "(20000, 1)\n",
            "~~~~~~~~~~~\n",
            "(?, 1024)\n",
            "(?, 1024)\n",
            "(?, 1024)\n",
            "(?, 1024)\n",
            "(?, 1)\n",
            "Epoch 1/10\n",
            "20000/20000 [==============================] - 18s 910us/sample - loss: 20.7738 - acc: 0.6726\n",
            "Epoch 2/10\n",
            "20000/20000 [==============================] - 18s 903us/sample - loss: 0.0652 - acc: 0.9966\n",
            "Epoch 3/10\n",
            "20000/20000 [==============================] - 18s 905us/sample - loss: 0.0053 - acc: 0.9985\n",
            "Epoch 4/10\n",
            "20000/20000 [==============================] - 18s 903us/sample - loss: 0.0046 - acc: 0.9987\n",
            "Epoch 5/10\n",
            "20000/20000 [==============================] - 18s 907us/sample - loss: 0.0172 - acc: 0.9984\n",
            "Epoch 6/10\n",
            "20000/20000 [==============================] - 18s 917us/sample - loss: 0.0154 - acc: 0.9983\n",
            "Epoch 7/10\n",
            "20000/20000 [==============================] - 18s 908us/sample - loss: 0.0202 - acc: 0.9982\n",
            "Epoch 8/10\n",
            "20000/20000 [==============================] - 18s 905us/sample - loss: 0.0128 - acc: 0.9985\n",
            "Epoch 9/10\n",
            "20000/20000 [==============================] - 18s 910us/sample - loss: 0.0058 - acc: 0.9985\n",
            "Epoch 10/10\n",
            "20000/20000 [==============================] - 18s 901us/sample - loss: 0.0137 - acc: 0.9986\n",
            "[[-15.246063]]\n",
            "(1, 1)\n",
            "[[622.84344]]\n",
            "(1, 1)\n"
          ],
          "name": "stdout"
        }
      ]
    },
    {
      "cell_type": "code",
      "metadata": {
        "id": "82UGsVtU9d1m",
        "colab_type": "code",
        "colab": {}
      },
      "source": [
        ""
      ],
      "execution_count": 0,
      "outputs": []
    }
  ]
}