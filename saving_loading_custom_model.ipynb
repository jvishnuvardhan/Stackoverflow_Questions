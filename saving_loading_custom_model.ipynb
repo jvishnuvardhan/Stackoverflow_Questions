{
  "nbformat": 4,
  "nbformat_minor": 0,
  "metadata": {
    "colab": {
      "name": "saving_loading_custom_model.ipynb",
      "provenance": [],
      "authorship_tag": "ABX9TyNUgU9KA19R0ikN54ztzrto",
      "include_colab_link": true
    },
    "kernelspec": {
      "name": "python3",
      "display_name": "Python 3"
    }
  },
  "cells": [
    {
      "cell_type": "markdown",
      "metadata": {
        "id": "view-in-github",
        "colab_type": "text"
      },
      "source": [
        "<a href=\"https://colab.research.google.com/github/jvishnuvardhan/Stackoverflow_Questions/blob/master/saving_loading_custom_model.ipynb\" target=\"_parent\"><img src=\"https://colab.research.google.com/assets/colab-badge.svg\" alt=\"Open In Colab\"/></a>"
      ]
    },
    {
      "cell_type": "code",
      "metadata": {
        "id": "kdj0BCG6T-NW",
        "colab_type": "code",
        "colab": {
          "base_uri": "https://localhost:8080/",
          "height": 768
        },
        "outputId": "c31ae6e8-996f-44a4-d24c-bec7d0c6186a"
      },
      "source": [
        "!pip install tf-nightly"
      ],
      "execution_count": 1,
      "outputs": [
        {
          "output_type": "stream",
          "text": [
            "Collecting tf-nightly\n",
            "\u001b[?25l  Downloading https://files.pythonhosted.org/packages/7e/eb/1a3f1920b5578e5eef6c75ee33e85cd08a1d942e16aecf9897cefa567f1b/tf_nightly-2.2.0.dev20200411-cp36-cp36m-manylinux2010_x86_64.whl (517.5MB)\n",
            "\u001b[K     |████████████████████████████████| 517.5MB 30kB/s \n",
            "\u001b[?25hRequirement already satisfied: opt-einsum>=2.3.2 in /usr/local/lib/python3.6/dist-packages (from tf-nightly) (3.2.0)\n",
            "Requirement already satisfied: h5py<2.11.0,>=2.10.0 in /usr/local/lib/python3.6/dist-packages (from tf-nightly) (2.10.0)\n",
            "Requirement already satisfied: scipy==1.4.1; python_version >= \"3\" in /usr/local/lib/python3.6/dist-packages (from tf-nightly) (1.4.1)\n",
            "Requirement already satisfied: gast==0.3.3 in /usr/local/lib/python3.6/dist-packages (from tf-nightly) (0.3.3)\n",
            "Requirement already satisfied: protobuf>=3.9.2 in /usr/local/lib/python3.6/dist-packages (from tf-nightly) (3.10.0)\n",
            "Requirement already satisfied: astunparse==1.6.3 in /usr/local/lib/python3.6/dist-packages (from tf-nightly) (1.6.3)\n",
            "Requirement already satisfied: keras-preprocessing>=1.1.0 in /usr/local/lib/python3.6/dist-packages (from tf-nightly) (1.1.0)\n",
            "Requirement already satisfied: numpy<2.0,>=1.16.0 in /usr/local/lib/python3.6/dist-packages (from tf-nightly) (1.18.2)\n",
            "Collecting tb-nightly<2.4.0a0,>=2.3.0a0\n",
            "\u001b[?25l  Downloading https://files.pythonhosted.org/packages/c5/57/c88572f4019cec8c8d40c894d8883062e266d3fc324d7785a5c128c0c303/tb_nightly-2.3.0a20200411-py3-none-any.whl (3.0MB)\n",
            "\u001b[K     |████████████████████████████████| 3.0MB 38.1MB/s \n",
            "\u001b[?25hRequirement already satisfied: absl-py>=0.7.0 in /usr/local/lib/python3.6/dist-packages (from tf-nightly) (0.9.0)\n",
            "Requirement already satisfied: termcolor>=1.1.0 in /usr/local/lib/python3.6/dist-packages (from tf-nightly) (1.1.0)\n",
            "Requirement already satisfied: wrapt>=1.11.1 in /usr/local/lib/python3.6/dist-packages (from tf-nightly) (1.12.1)\n",
            "Requirement already satisfied: six>=1.12.0 in /usr/local/lib/python3.6/dist-packages (from tf-nightly) (1.12.0)\n",
            "Requirement already satisfied: grpcio>=1.8.6 in /usr/local/lib/python3.6/dist-packages (from tf-nightly) (1.28.1)\n",
            "Requirement already satisfied: wheel>=0.26; python_version >= \"3\" in /usr/local/lib/python3.6/dist-packages (from tf-nightly) (0.34.2)\n",
            "Collecting tf-estimator-nightly\n",
            "\u001b[?25l  Downloading https://files.pythonhosted.org/packages/0e/cc/857a4cc77777b127e036b2883b86004c02be2d0d2e3d4bd52c55f48f0244/tf_estimator_nightly-2.3.0.dev2020041101-py2.py3-none-any.whl (455kB)\n",
            "\u001b[K     |████████████████████████████████| 460kB 45.9MB/s \n",
            "\u001b[?25hRequirement already satisfied: google-pasta>=0.1.8 in /usr/local/lib/python3.6/dist-packages (from tf-nightly) (0.2.0)\n",
            "Requirement already satisfied: setuptools in /usr/local/lib/python3.6/dist-packages (from protobuf>=3.9.2->tf-nightly) (46.1.3)\n",
            "Requirement already satisfied: werkzeug>=0.11.15 in /usr/local/lib/python3.6/dist-packages (from tb-nightly<2.4.0a0,>=2.3.0a0->tf-nightly) (1.0.1)\n",
            "Requirement already satisfied: google-auth-oauthlib<0.5,>=0.4.1 in /usr/local/lib/python3.6/dist-packages (from tb-nightly<2.4.0a0,>=2.3.0a0->tf-nightly) (0.4.1)\n",
            "Requirement already satisfied: markdown>=2.6.8 in /usr/local/lib/python3.6/dist-packages (from tb-nightly<2.4.0a0,>=2.3.0a0->tf-nightly) (3.2.1)\n",
            "Requirement already satisfied: google-auth<2,>=1.6.3 in /usr/local/lib/python3.6/dist-packages (from tb-nightly<2.4.0a0,>=2.3.0a0->tf-nightly) (1.7.2)\n",
            "Requirement already satisfied: tensorboard-plugin-wit>=1.6.0 in /usr/local/lib/python3.6/dist-packages (from tb-nightly<2.4.0a0,>=2.3.0a0->tf-nightly) (1.6.0.post3)\n",
            "Requirement already satisfied: requests<3,>=2.21.0 in /usr/local/lib/python3.6/dist-packages (from tb-nightly<2.4.0a0,>=2.3.0a0->tf-nightly) (2.21.0)\n",
            "Requirement already satisfied: requests-oauthlib>=0.7.0 in /usr/local/lib/python3.6/dist-packages (from google-auth-oauthlib<0.5,>=0.4.1->tb-nightly<2.4.0a0,>=2.3.0a0->tf-nightly) (1.3.0)\n",
            "Requirement already satisfied: cachetools<3.2,>=2.0.0 in /usr/local/lib/python3.6/dist-packages (from google-auth<2,>=1.6.3->tb-nightly<2.4.0a0,>=2.3.0a0->tf-nightly) (3.1.1)\n",
            "Requirement already satisfied: rsa<4.1,>=3.1.4 in /usr/local/lib/python3.6/dist-packages (from google-auth<2,>=1.6.3->tb-nightly<2.4.0a0,>=2.3.0a0->tf-nightly) (4.0)\n",
            "Requirement already satisfied: pyasn1-modules>=0.2.1 in /usr/local/lib/python3.6/dist-packages (from google-auth<2,>=1.6.3->tb-nightly<2.4.0a0,>=2.3.0a0->tf-nightly) (0.2.8)\n",
            "Requirement already satisfied: chardet<3.1.0,>=3.0.2 in /usr/local/lib/python3.6/dist-packages (from requests<3,>=2.21.0->tb-nightly<2.4.0a0,>=2.3.0a0->tf-nightly) (3.0.4)\n",
            "Requirement already satisfied: urllib3<1.25,>=1.21.1 in /usr/local/lib/python3.6/dist-packages (from requests<3,>=2.21.0->tb-nightly<2.4.0a0,>=2.3.0a0->tf-nightly) (1.24.3)\n",
            "Requirement already satisfied: idna<2.9,>=2.5 in /usr/local/lib/python3.6/dist-packages (from requests<3,>=2.21.0->tb-nightly<2.4.0a0,>=2.3.0a0->tf-nightly) (2.8)\n",
            "Requirement already satisfied: certifi>=2017.4.17 in /usr/local/lib/python3.6/dist-packages (from requests<3,>=2.21.0->tb-nightly<2.4.0a0,>=2.3.0a0->tf-nightly) (2020.4.5.1)\n",
            "Requirement already satisfied: oauthlib>=3.0.0 in /usr/local/lib/python3.6/dist-packages (from requests-oauthlib>=0.7.0->google-auth-oauthlib<0.5,>=0.4.1->tb-nightly<2.4.0a0,>=2.3.0a0->tf-nightly) (3.1.0)\n",
            "Requirement already satisfied: pyasn1>=0.1.3 in /usr/local/lib/python3.6/dist-packages (from rsa<4.1,>=3.1.4->google-auth<2,>=1.6.3->tb-nightly<2.4.0a0,>=2.3.0a0->tf-nightly) (0.4.8)\n",
            "Installing collected packages: tb-nightly, tf-estimator-nightly, tf-nightly\n",
            "Successfully installed tb-nightly-2.3.0a20200411 tf-estimator-nightly-2.3.0.dev2020041101 tf-nightly-2.2.0.dev20200411\n"
          ],
          "name": "stdout"
        }
      ]
    },
    {
      "cell_type": "code",
      "metadata": {
        "id": "2IVM9o-mUBHK",
        "colab_type": "code",
        "colab": {
          "base_uri": "https://localhost:8080/",
          "height": 34
        },
        "outputId": "c9347ea9-16c6-4c6b-84d4-d67e446971c4"
      },
      "source": [
        "import tensorflow as tf\n",
        "tf.__version__"
      ],
      "execution_count": 2,
      "outputs": [
        {
          "output_type": "execute_result",
          "data": {
            "text/plain": [
              "'2.2.0-dev20200411'"
            ]
          },
          "metadata": {
            "tags": []
          },
          "execution_count": 2
        }
      ]
    },
    {
      "cell_type": "code",
      "metadata": {
        "id": "9DSg4IdEUET5",
        "colab_type": "code",
        "colab": {}
      },
      "source": [
        "import tensorflow as tf\n",
        "\n",
        "\n",
        "OUTPUT_CHANNELS = 3\n",
        "\n",
        "def downsample(filters, size, apply_batchnorm=True):\n",
        "  initializer = tf.random_normal_initializer(0., 0.02)\n",
        "\n",
        "  result = tf.keras.Sequential()\n",
        "  result.add(\n",
        "      tf.keras.layers.Conv2D(filters, size, strides=2, padding='same',\n",
        "                             kernel_initializer=initializer, use_bias=False))\n",
        "\n",
        "  if apply_batchnorm:\n",
        "    result.add(tf.keras.layers.BatchNormalization())\n",
        "\n",
        "  result.add(tf.keras.layers.LeakyReLU())\n",
        "\n",
        "  return result\n",
        "\n",
        "def upsample(filters, size, apply_dropout=False):\n",
        "  initializer = tf.random_normal_initializer(0., 0.02)\n",
        "\n",
        "  result = tf.keras.Sequential()\n",
        "  result.add(\n",
        "    tf.keras.layers.Conv2DTranspose(filters, size, strides=2,\n",
        "                                    padding='same',\n",
        "                                    kernel_initializer=initializer,\n",
        "                                    use_bias=False))\n",
        "\n",
        "  result.add(tf.keras.layers.BatchNormalization())\n",
        "\n",
        "  if apply_dropout:\n",
        "      result.add(tf.keras.layers.Dropout(0.5))\n",
        "\n",
        "  result.add(tf.keras.layers.ReLU())\n",
        "\n",
        "  return result\n",
        "\n",
        "\n",
        "def Generator():\n",
        "  down_stack = [\n",
        "    downsample(64, 4, apply_batchnorm=False), # (bs, 128, 128, 64)\n",
        "    downsample(128, 4), # (bs, 64, 64, 128)\n",
        "    downsample(256, 4), # (bs, 32, 32, 256)\n",
        "    downsample(512, 4), # (bs, 16, 16, 512)\n",
        "    downsample(512, 4), # (bs, 8, 8, 512)\n",
        "    downsample(512, 4), # (bs, 4, 4, 512)\n",
        "    downsample(512, 4), # (bs, 2, 2, 512)\n",
        "    downsample(512, 4), # (bs, 1, 1, 512)\n",
        "  ]\n",
        "\n",
        "  up_stack = [\n",
        "    upsample(512, 4, apply_dropout=True), # (bs, 2, 2, 1024)\n",
        "    upsample(512, 4, apply_dropout=True), # (bs, 4, 4, 1024)\n",
        "    upsample(512, 4, apply_dropout=True), # (bs, 8, 8, 1024)\n",
        "    upsample(512, 4), # (bs, 16, 16, 1024)\n",
        "    upsample(256, 4), # (bs, 32, 32, 512)\n",
        "    upsample(128, 4), # (bs, 64, 64, 256)\n",
        "    upsample(64, 4), # (bs, 128, 128, 128)\n",
        "  ]\n",
        "\n",
        "  initializer = tf.random_normal_initializer(0., 0.02)\n",
        "  last = tf.keras.layers.Conv2DTranspose(OUTPUT_CHANNELS, 4,\n",
        "                                         strides=2,\n",
        "                                         padding='same',\n",
        "                                         kernel_initializer=initializer,\n",
        "                                         activation='tanh') # (bs, 256, 256, 3)\n",
        "\n",
        "  concat = tf.keras.layers.Concatenate()\n",
        "\n",
        "  inputs = tf.keras.layers.Input(shape=[None,None,3])\n",
        "  x = inputs\n",
        "\n",
        "  # Downsampling through the model\n",
        "  skips = []\n",
        "  for down in down_stack:\n",
        "    x = down(x)\n",
        "    skips.append(x)\n",
        "\n",
        "  skips = reversed(skips[:-1])\n",
        "\n",
        "  # Upsampling and establishing the skip connections\n",
        "  for up, skip in zip(up_stack, skips):\n",
        "    x = up(x)\n",
        "    x = concat([x, skip])\n",
        "\n",
        "  x = last(x)\n",
        "\n",
        "  return tf.keras.Model(inputs=inputs, outputs=x)\n",
        "\n",
        "generator = Generator()"
      ],
      "execution_count": 0,
      "outputs": []
    },
    {
      "cell_type": "code",
      "metadata": {
        "id": "ulykgWvYUE3G",
        "colab_type": "code",
        "colab": {
          "base_uri": "https://localhost:8080/",
          "height": 986
        },
        "outputId": "fe0b0590-511d-4be7-a66b-c23fdefcae4e"
      },
      "source": [
        "generator.summary()"
      ],
      "execution_count": 4,
      "outputs": [
        {
          "output_type": "stream",
          "text": [
            "Model: \"model\"\n",
            "__________________________________________________________________________________________________\n",
            "Layer (type)                    Output Shape         Param #     Connected to                     \n",
            "==================================================================================================\n",
            "input_1 (InputLayer)            [(None, None, None,  0                                            \n",
            "__________________________________________________________________________________________________\n",
            "sequential (Sequential)         (None, None, None, 6 3072        input_1[0][0]                    \n",
            "__________________________________________________________________________________________________\n",
            "sequential_1 (Sequential)       (None, None, None, 1 131584      sequential[0][0]                 \n",
            "__________________________________________________________________________________________________\n",
            "sequential_2 (Sequential)       (None, None, None, 2 525312      sequential_1[0][0]               \n",
            "__________________________________________________________________________________________________\n",
            "sequential_3 (Sequential)       (None, None, None, 5 2099200     sequential_2[0][0]               \n",
            "__________________________________________________________________________________________________\n",
            "sequential_4 (Sequential)       (None, None, None, 5 4196352     sequential_3[0][0]               \n",
            "__________________________________________________________________________________________________\n",
            "sequential_5 (Sequential)       (None, None, None, 5 4196352     sequential_4[0][0]               \n",
            "__________________________________________________________________________________________________\n",
            "sequential_6 (Sequential)       (None, None, None, 5 4196352     sequential_5[0][0]               \n",
            "__________________________________________________________________________________________________\n",
            "sequential_7 (Sequential)       (None, None, None, 5 4196352     sequential_6[0][0]               \n",
            "__________________________________________________________________________________________________\n",
            "sequential_8 (Sequential)       (None, None, None, 5 4196352     sequential_7[0][0]               \n",
            "__________________________________________________________________________________________________\n",
            "concatenate (Concatenate)       multiple             0           sequential_8[0][0]               \n",
            "                                                                 sequential_6[0][0]               \n",
            "                                                                 sequential_9[0][0]               \n",
            "                                                                 sequential_5[0][0]               \n",
            "                                                                 sequential_10[0][0]              \n",
            "                                                                 sequential_4[0][0]               \n",
            "                                                                 sequential_11[0][0]              \n",
            "                                                                 sequential_3[0][0]               \n",
            "                                                                 sequential_12[0][0]              \n",
            "                                                                 sequential_2[0][0]               \n",
            "                                                                 sequential_13[0][0]              \n",
            "                                                                 sequential_1[0][0]               \n",
            "                                                                 sequential_14[0][0]              \n",
            "                                                                 sequential[0][0]                 \n",
            "__________________________________________________________________________________________________\n",
            "sequential_9 (Sequential)       (None, None, None, 5 8390656     concatenate[0][0]                \n",
            "__________________________________________________________________________________________________\n",
            "sequential_10 (Sequential)      (None, None, None, 5 8390656     concatenate[1][0]                \n",
            "__________________________________________________________________________________________________\n",
            "sequential_11 (Sequential)      (None, None, None, 5 8390656     concatenate[2][0]                \n",
            "__________________________________________________________________________________________________\n",
            "sequential_12 (Sequential)      (None, None, None, 2 4195328     concatenate[3][0]                \n",
            "__________________________________________________________________________________________________\n",
            "sequential_13 (Sequential)      (None, None, None, 1 1049088     concatenate[4][0]                \n",
            "__________________________________________________________________________________________________\n",
            "sequential_14 (Sequential)      (None, None, None, 6 262400      concatenate[5][0]                \n",
            "__________________________________________________________________________________________________\n",
            "conv2d_transpose_7 (Conv2DTrans (None, None, None, 3 6147        concatenate[6][0]                \n",
            "==================================================================================================\n",
            "Total params: 54,425,859\n",
            "Trainable params: 54,414,979\n",
            "Non-trainable params: 10,880\n",
            "__________________________________________________________________________________________________\n"
          ],
          "name": "stdout"
        }
      ]
    },
    {
      "cell_type": "code",
      "metadata": {
        "id": "XAgTNh45UOAy",
        "colab_type": "code",
        "colab": {}
      },
      "source": [
        "generator.save('generator.h5',save_format='h5')"
      ],
      "execution_count": 0,
      "outputs": []
    },
    {
      "cell_type": "code",
      "metadata": {
        "id": "VeWpvJisUPac",
        "colab_type": "code",
        "colab": {
          "base_uri": "https://localhost:8080/",
          "height": 51
        },
        "outputId": "96c7456c-6dc4-494a-d4bf-5564dd1faff0"
      },
      "source": [
        "import time\n",
        "st = time.time()\n",
        "generator_loaded_h5 = tf.keras.models.load_model('generator.h5')\n",
        "print(\"Time for loading the model : \",time.time()-st)"
      ],
      "execution_count": 6,
      "outputs": [
        {
          "output_type": "stream",
          "text": [
            "WARNING:tensorflow:No training configuration found in the save file, so the model was *not* compiled. Compile it manually.\n",
            "Time for loading the model :  2.1781604290008545\n"
          ],
          "name": "stdout"
        }
      ]
    },
    {
      "cell_type": "code",
      "metadata": {
        "id": "rjcJ9gVoU1US",
        "colab_type": "code",
        "colab": {
          "base_uri": "https://localhost:8080/",
          "height": 986
        },
        "outputId": "cfdeda72-a104-4eec-d7f8-3ccc983b6bde"
      },
      "source": [
        "generator_loaded_h5.summary()"
      ],
      "execution_count": 7,
      "outputs": [
        {
          "output_type": "stream",
          "text": [
            "Model: \"model\"\n",
            "__________________________________________________________________________________________________\n",
            "Layer (type)                    Output Shape         Param #     Connected to                     \n",
            "==================================================================================================\n",
            "input_1 (InputLayer)            [(None, None, None,  0                                            \n",
            "__________________________________________________________________________________________________\n",
            "sequential (Sequential)         (None, None, None, 6 3072        input_1[0][0]                    \n",
            "__________________________________________________________________________________________________\n",
            "sequential_1 (Sequential)       (None, None, None, 1 131584      sequential[0][0]                 \n",
            "__________________________________________________________________________________________________\n",
            "sequential_2 (Sequential)       (None, None, None, 2 525312      sequential_1[0][0]               \n",
            "__________________________________________________________________________________________________\n",
            "sequential_3 (Sequential)       (None, None, None, 5 2099200     sequential_2[0][0]               \n",
            "__________________________________________________________________________________________________\n",
            "sequential_4 (Sequential)       (None, None, None, 5 4196352     sequential_3[0][0]               \n",
            "__________________________________________________________________________________________________\n",
            "sequential_5 (Sequential)       (None, None, None, 5 4196352     sequential_4[0][0]               \n",
            "__________________________________________________________________________________________________\n",
            "sequential_6 (Sequential)       (None, None, None, 5 4196352     sequential_5[0][0]               \n",
            "__________________________________________________________________________________________________\n",
            "sequential_7 (Sequential)       (None, None, None, 5 4196352     sequential_6[0][0]               \n",
            "__________________________________________________________________________________________________\n",
            "sequential_8 (Sequential)       (None, None, None, 5 4196352     sequential_7[0][0]               \n",
            "__________________________________________________________________________________________________\n",
            "concatenate (Concatenate)       multiple             0           sequential_8[0][0]               \n",
            "                                                                 sequential_6[0][0]               \n",
            "                                                                 sequential_9[0][0]               \n",
            "                                                                 sequential_5[0][0]               \n",
            "                                                                 sequential_10[0][0]              \n",
            "                                                                 sequential_4[0][0]               \n",
            "                                                                 sequential_11[0][0]              \n",
            "                                                                 sequential_3[0][0]               \n",
            "                                                                 sequential_12[0][0]              \n",
            "                                                                 sequential_2[0][0]               \n",
            "                                                                 sequential_13[0][0]              \n",
            "                                                                 sequential_1[0][0]               \n",
            "                                                                 sequential_14[0][0]              \n",
            "                                                                 sequential[0][0]                 \n",
            "__________________________________________________________________________________________________\n",
            "sequential_9 (Sequential)       (None, None, None, 5 8390656     concatenate[0][0]                \n",
            "__________________________________________________________________________________________________\n",
            "sequential_10 (Sequential)      (None, None, None, 5 8390656     concatenate[1][0]                \n",
            "__________________________________________________________________________________________________\n",
            "sequential_11 (Sequential)      (None, None, None, 5 8390656     concatenate[2][0]                \n",
            "__________________________________________________________________________________________________\n",
            "sequential_12 (Sequential)      (None, None, None, 2 4195328     concatenate[3][0]                \n",
            "__________________________________________________________________________________________________\n",
            "sequential_13 (Sequential)      (None, None, None, 1 1049088     concatenate[4][0]                \n",
            "__________________________________________________________________________________________________\n",
            "sequential_14 (Sequential)      (None, None, None, 6 262400      concatenate[5][0]                \n",
            "__________________________________________________________________________________________________\n",
            "conv2d_transpose_7 (Conv2DTrans (None, None, None, 3 6147        concatenate[6][0]                \n",
            "==================================================================================================\n",
            "Total params: 54,425,859\n",
            "Trainable params: 54,414,979\n",
            "Non-trainable params: 10,880\n",
            "__________________________________________________________________________________________________\n"
          ],
          "name": "stdout"
        }
      ]
    },
    {
      "cell_type": "code",
      "metadata": {
        "id": "iRZdx-uqU-AT",
        "colab_type": "code",
        "colab": {
          "base_uri": "https://localhost:8080/",
          "height": 34
        },
        "outputId": "95716fdb-5063-4fe8-ce91-5c7db31820d2"
      },
      "source": [
        "# saving in saved_model format\n",
        "generator.save('generator_tf',save_format='tf')"
      ],
      "execution_count": 8,
      "outputs": [
        {
          "output_type": "stream",
          "text": [
            "INFO:tensorflow:Assets written to: generator_tf/assets\n"
          ],
          "name": "stdout"
        }
      ]
    },
    {
      "cell_type": "code",
      "metadata": {
        "id": "vft5IPVdVOIL",
        "colab_type": "code",
        "colab": {
          "base_uri": "https://localhost:8080/",
          "height": 51
        },
        "outputId": "c77e47d7-21c0-4b14-d053-2b4cbae28ab5"
      },
      "source": [
        "# loading the model in saved_model format\n",
        "import time\n",
        "st = time.time()\n",
        "generator_loaded_h5 = tf.keras.models.load_model('generator_tf')\n",
        "print(\"Time for loading the model : \",time.time()-st)"
      ],
      "execution_count": 9,
      "outputs": [
        {
          "output_type": "stream",
          "text": [
            "WARNING:tensorflow:No training configuration found in save file, so the model was *not* compiled. Compile it manually.\n",
            "Time for loading the model :  5.755080461502075\n"
          ],
          "name": "stdout"
        }
      ]
    },
    {
      "cell_type": "code",
      "metadata": {
        "id": "RI8z5QnNVXX7",
        "colab_type": "code",
        "colab": {}
      },
      "source": [
        ""
      ],
      "execution_count": 0,
      "outputs": []
    }
  ]
}