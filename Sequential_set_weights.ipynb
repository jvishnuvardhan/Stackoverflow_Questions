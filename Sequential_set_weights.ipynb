{
  "nbformat": 4,
  "nbformat_minor": 0,
  "metadata": {
    "colab": {
      "name": "Sequential_set_weights.ipynb",
      "provenance": [],
      "authorship_tag": "ABX9TyPGbbN8wQwPK1FAjlwx8Co3",
      "include_colab_link": true
    },
    "kernelspec": {
      "name": "python3",
      "display_name": "Python 3"
    }
  },
  "cells": [
    {
      "cell_type": "markdown",
      "metadata": {
        "id": "view-in-github",
        "colab_type": "text"
      },
      "source": [
        "<a href=\"https://colab.research.google.com/github/jvishnuvardhan/Stackoverflow_Questions/blob/master/Sequential_set_weights.ipynb\" target=\"_parent\"><img src=\"https://colab.research.google.com/assets/colab-badge.svg\" alt=\"Open In Colab\"/></a>"
      ]
    },
    {
      "cell_type": "code",
      "metadata": {
        "id": "_PkwYXlAL-dJ",
        "colab_type": "code",
        "colab": {
          "base_uri": "https://localhost:8080/",
          "height": 1000
        },
        "outputId": "45a86f7e-5725-4276-aa57-7479e0218900"
      },
      "source": [
        "!pip install tensorflow==2.1"
      ],
      "execution_count": 1,
      "outputs": [
        {
          "output_type": "stream",
          "text": [
            "Collecting tensorflow==2.1\n",
            "\u001b[?25l  Downloading https://files.pythonhosted.org/packages/85/d4/c0cd1057b331bc38b65478302114194bd8e1b9c2bbc06e300935c0e93d90/tensorflow-2.1.0-cp36-cp36m-manylinux2010_x86_64.whl (421.8MB)\n",
            "\u001b[K     |████████████████████████████████| 421.8MB 37kB/s \n",
            "\u001b[?25hRequirement already satisfied: scipy==1.4.1; python_version >= \"3\" in /usr/local/lib/python3.6/dist-packages (from tensorflow==2.1) (1.4.1)\n",
            "Requirement already satisfied: keras-preprocessing>=1.1.0 in /usr/local/lib/python3.6/dist-packages (from tensorflow==2.1) (1.1.0)\n",
            "Requirement already satisfied: wheel>=0.26; python_version >= \"3\" in /usr/local/lib/python3.6/dist-packages (from tensorflow==2.1) (0.34.2)\n",
            "Requirement already satisfied: grpcio>=1.8.6 in /usr/local/lib/python3.6/dist-packages (from tensorflow==2.1) (1.28.1)\n",
            "Requirement already satisfied: wrapt>=1.11.1 in /usr/local/lib/python3.6/dist-packages (from tensorflow==2.1) (1.12.1)\n",
            "Collecting tensorflow-estimator<2.2.0,>=2.1.0rc0\n",
            "\u001b[?25l  Downloading https://files.pythonhosted.org/packages/18/90/b77c328a1304437ab1310b463e533fa7689f4bfc41549593056d812fab8e/tensorflow_estimator-2.1.0-py2.py3-none-any.whl (448kB)\n",
            "\u001b[K     |████████████████████████████████| 450kB 45.6MB/s \n",
            "\u001b[?25hRequirement already satisfied: google-pasta>=0.1.6 in /usr/local/lib/python3.6/dist-packages (from tensorflow==2.1) (0.2.0)\n",
            "Requirement already satisfied: absl-py>=0.7.0 in /usr/local/lib/python3.6/dist-packages (from tensorflow==2.1) (0.9.0)\n",
            "Requirement already satisfied: astor>=0.6.0 in /usr/local/lib/python3.6/dist-packages (from tensorflow==2.1) (0.8.1)\n",
            "Requirement already satisfied: termcolor>=1.1.0 in /usr/local/lib/python3.6/dist-packages (from tensorflow==2.1) (1.1.0)\n",
            "Requirement already satisfied: keras-applications>=1.0.8 in /usr/local/lib/python3.6/dist-packages (from tensorflow==2.1) (1.0.8)\n",
            "Requirement already satisfied: opt-einsum>=2.3.2 in /usr/local/lib/python3.6/dist-packages (from tensorflow==2.1) (3.2.1)\n",
            "Collecting tensorboard<2.2.0,>=2.1.0\n",
            "\u001b[?25l  Downloading https://files.pythonhosted.org/packages/d9/41/bbf49b61370e4f4d245d4c6051dfb6db80cec672605c91b1652ac8cc3d38/tensorboard-2.1.1-py3-none-any.whl (3.8MB)\n",
            "\u001b[K     |████████████████████████████████| 3.9MB 38.6MB/s \n",
            "\u001b[?25hRequirement already satisfied: six>=1.12.0 in /usr/local/lib/python3.6/dist-packages (from tensorflow==2.1) (1.12.0)\n",
            "Requirement already satisfied: protobuf>=3.8.0 in /usr/local/lib/python3.6/dist-packages (from tensorflow==2.1) (3.10.0)\n",
            "Collecting gast==0.2.2\n",
            "  Downloading https://files.pythonhosted.org/packages/4e/35/11749bf99b2d4e3cceb4d55ca22590b0d7c2c62b9de38ac4a4a7f4687421/gast-0.2.2.tar.gz\n",
            "Requirement already satisfied: numpy<2.0,>=1.16.0 in /usr/local/lib/python3.6/dist-packages (from tensorflow==2.1) (1.18.3)\n",
            "Requirement already satisfied: h5py in /usr/local/lib/python3.6/dist-packages (from keras-applications>=1.0.8->tensorflow==2.1) (2.10.0)\n",
            "Requirement already satisfied: werkzeug>=0.11.15 in /usr/local/lib/python3.6/dist-packages (from tensorboard<2.2.0,>=2.1.0->tensorflow==2.1) (1.0.1)\n",
            "Requirement already satisfied: requests<3,>=2.21.0 in /usr/local/lib/python3.6/dist-packages (from tensorboard<2.2.0,>=2.1.0->tensorflow==2.1) (2.23.0)\n",
            "Requirement already satisfied: markdown>=2.6.8 in /usr/local/lib/python3.6/dist-packages (from tensorboard<2.2.0,>=2.1.0->tensorflow==2.1) (3.2.1)\n",
            "Requirement already satisfied: google-auth<2,>=1.6.3 in /usr/local/lib/python3.6/dist-packages (from tensorboard<2.2.0,>=2.1.0->tensorflow==2.1) (1.7.2)\n",
            "Requirement already satisfied: setuptools>=41.0.0 in /usr/local/lib/python3.6/dist-packages (from tensorboard<2.2.0,>=2.1.0->tensorflow==2.1) (46.1.3)\n",
            "Requirement already satisfied: google-auth-oauthlib<0.5,>=0.4.1 in /usr/local/lib/python3.6/dist-packages (from tensorboard<2.2.0,>=2.1.0->tensorflow==2.1) (0.4.1)\n",
            "Requirement already satisfied: certifi>=2017.4.17 in /usr/local/lib/python3.6/dist-packages (from requests<3,>=2.21.0->tensorboard<2.2.0,>=2.1.0->tensorflow==2.1) (2020.4.5.1)\n",
            "Requirement already satisfied: chardet<4,>=3.0.2 in /usr/local/lib/python3.6/dist-packages (from requests<3,>=2.21.0->tensorboard<2.2.0,>=2.1.0->tensorflow==2.1) (3.0.4)\n",
            "Requirement already satisfied: urllib3!=1.25.0,!=1.25.1,<1.26,>=1.21.1 in /usr/local/lib/python3.6/dist-packages (from requests<3,>=2.21.0->tensorboard<2.2.0,>=2.1.0->tensorflow==2.1) (1.24.3)\n",
            "Requirement already satisfied: idna<3,>=2.5 in /usr/local/lib/python3.6/dist-packages (from requests<3,>=2.21.0->tensorboard<2.2.0,>=2.1.0->tensorflow==2.1) (2.9)\n",
            "Requirement already satisfied: pyasn1-modules>=0.2.1 in /usr/local/lib/python3.6/dist-packages (from google-auth<2,>=1.6.3->tensorboard<2.2.0,>=2.1.0->tensorflow==2.1) (0.2.8)\n",
            "Requirement already satisfied: cachetools<3.2,>=2.0.0 in /usr/local/lib/python3.6/dist-packages (from google-auth<2,>=1.6.3->tensorboard<2.2.0,>=2.1.0->tensorflow==2.1) (3.1.1)\n",
            "Requirement already satisfied: rsa<4.1,>=3.1.4 in /usr/local/lib/python3.6/dist-packages (from google-auth<2,>=1.6.3->tensorboard<2.2.0,>=2.1.0->tensorflow==2.1) (4.0)\n",
            "Requirement already satisfied: requests-oauthlib>=0.7.0 in /usr/local/lib/python3.6/dist-packages (from google-auth-oauthlib<0.5,>=0.4.1->tensorboard<2.2.0,>=2.1.0->tensorflow==2.1) (1.3.0)\n",
            "Requirement already satisfied: pyasn1<0.5.0,>=0.4.6 in /usr/local/lib/python3.6/dist-packages (from pyasn1-modules>=0.2.1->google-auth<2,>=1.6.3->tensorboard<2.2.0,>=2.1.0->tensorflow==2.1) (0.4.8)\n",
            "Requirement already satisfied: oauthlib>=3.0.0 in /usr/local/lib/python3.6/dist-packages (from requests-oauthlib>=0.7.0->google-auth-oauthlib<0.5,>=0.4.1->tensorboard<2.2.0,>=2.1.0->tensorflow==2.1) (3.1.0)\n",
            "Building wheels for collected packages: gast\n",
            "  Building wheel for gast (setup.py) ... \u001b[?25l\u001b[?25hdone\n",
            "  Created wheel for gast: filename=gast-0.2.2-cp36-none-any.whl size=7540 sha256=90b7c1c39ac4e9f24f50ef948c8c5d8a8543ddd307bf8bb2c939aede7ca30cdf\n",
            "  Stored in directory: /root/.cache/pip/wheels/5c/2e/7e/a1d4d4fcebe6c381f378ce7743a3ced3699feb89bcfbdadadd\n",
            "Successfully built gast\n",
            "\u001b[31mERROR: tensorflow-probability 0.10.0rc0 has requirement gast>=0.3.2, but you'll have gast 0.2.2 which is incompatible.\u001b[0m\n",
            "Installing collected packages: tensorflow-estimator, tensorboard, gast, tensorflow\n",
            "  Found existing installation: tensorflow-estimator 2.2.0\n",
            "    Uninstalling tensorflow-estimator-2.2.0:\n",
            "      Successfully uninstalled tensorflow-estimator-2.2.0\n",
            "  Found existing installation: tensorboard 2.2.1\n",
            "    Uninstalling tensorboard-2.2.1:\n",
            "      Successfully uninstalled tensorboard-2.2.1\n",
            "  Found existing installation: gast 0.3.3\n",
            "    Uninstalling gast-0.3.3:\n",
            "      Successfully uninstalled gast-0.3.3\n",
            "  Found existing installation: tensorflow 2.2.0rc3\n",
            "    Uninstalling tensorflow-2.2.0rc3:\n",
            "      Successfully uninstalled tensorflow-2.2.0rc3\n",
            "Successfully installed gast-0.2.2 tensorboard-2.1.1 tensorflow-2.1.0 tensorflow-estimator-2.1.0\n"
          ],
          "name": "stdout"
        }
      ]
    },
    {
      "cell_type": "code",
      "metadata": {
        "id": "NrMjuC4PMxKw",
        "colab_type": "code",
        "colab": {
          "base_uri": "https://localhost:8080/",
          "height": 238
        },
        "outputId": "03b52859-3035-4144-bb66-ad8c39860798"
      },
      "source": [
        "import tensorflow as tf\n",
        "mnist = tf.keras.datasets.mnist\n",
        "\n",
        "(x_train, y_train),(x_test, y_test) = mnist.load_data()\n",
        "x_train, x_test = x_train / 255.0, x_test / 255.0\n",
        "\n",
        "def create_model():\n",
        "  model = tf.keras.models.Sequential([\n",
        "    tf.keras.layers.Flatten(input_shape=(28, 28),name='flatten'),\n",
        "    tf.keras.layers.Dense(128, activation='relu',name='dense1'),\n",
        "    tf.keras.layers.Dropout(0.2,name = 'dropout'),\n",
        "    tf.keras.layers.Dense(10, name='dense2')\n",
        "  ])\n",
        "\n",
        "  model.compile(optimizer='adam',\n",
        "                loss=tf.keras.losses.SparseCategoricalCrossentropy(from_logits=True), #'sparse_categorical_crossentropy',\n",
        "                metrics=['accuracy'])\n",
        "  return model\n",
        "\n",
        "# create model architecture and compile\n",
        "model = create_model()\n",
        "model.fit(x_train, y_train, epochs=5)\n",
        "model.evaluate(x_test, y_test)"
      ],
      "execution_count": 23,
      "outputs": [
        {
          "output_type": "stream",
          "text": [
            "Train on 60000 samples\n",
            "Epoch 1/5\n",
            "60000/60000 [==============================] - 5s 84us/sample - loss: 0.2929 - accuracy: 0.9151\n",
            "Epoch 2/5\n",
            "60000/60000 [==============================] - 5s 80us/sample - loss: 0.1407 - accuracy: 0.9586\n",
            "Epoch 3/5\n",
            "60000/60000 [==============================] - 5s 81us/sample - loss: 0.1046 - accuracy: 0.9687\n",
            "Epoch 4/5\n",
            "60000/60000 [==============================] - 5s 81us/sample - loss: 0.0877 - accuracy: 0.9732\n",
            "Epoch 5/5\n",
            "60000/60000 [==============================] - 5s 83us/sample - loss: 0.0734 - accuracy: 0.9769\n",
            "10000/10000 [==============================] - 1s 51us/sample - loss: 0.0749 - accuracy: 0.9756\n"
          ],
          "name": "stdout"
        },
        {
          "output_type": "execute_result",
          "data": {
            "text/plain": [
              "[0.0749235017108731, 0.9756]"
            ]
          },
          "metadata": {
            "tags": []
          },
          "execution_count": 23
        }
      ]
    },
    {
      "cell_type": "code",
      "metadata": {
        "id": "Ry4tUWRbM43A",
        "colab_type": "code",
        "colab": {
          "base_uri": "https://localhost:8080/",
          "height": 54
        },
        "outputId": "af78b8ee-d6a0-4077-d7f1-c0599ad10291"
      },
      "source": [
        "#saving weights\n",
        "model.save_weights('./model_weights', save_format='tf')\n",
        "\n",
        "#layer weights from the model \n",
        "layer_dict = dict([(layer.name, layer) for layer in model.layers])\n",
        "print(layer_dict)"
      ],
      "execution_count": 34,
      "outputs": [
        {
          "output_type": "stream",
          "text": [
            "{'flatten': <tensorflow.python.keras.layers.core.Flatten object at 0x7f42912785c0>, 'dense1': <tensorflow.python.keras.layers.core.Dense object at 0x7f42a099e9e8>, 'dropout': <tensorflow.python.keras.layers.core.Dropout object at 0x7f42a099e400>, 'dense2': <tensorflow.python.keras.layers.core.Dense object at 0x7f42a099e828>}\n"
          ],
          "name": "stdout"
        }
      ]
    },
    {
      "cell_type": "code",
      "metadata": {
        "id": "oMVldSPbNC-X",
        "colab_type": "code",
        "colab": {
          "base_uri": "https://localhost:8080/",
          "height": 34
        },
        "outputId": "301f6d6e-d9ac-440b-8308-98dc65721d1b"
      },
      "source": [
        "# creating the same model architecture and compile\n",
        "loaded_model = create_model()\n",
        "\n",
        "# This initializes the variables used by the optimizers,\n",
        "# as well as any stateful metric variables\n",
        "loaded_model.train_on_batch(x_train[:1], y_train[:1])"
      ],
      "execution_count": 35,
      "outputs": [
        {
          "output_type": "execute_result",
          "data": {
            "text/plain": [
              "[1.6890267, 1.0]"
            ]
          },
          "metadata": {
            "tags": []
          },
          "execution_count": 35
        }
      ]
    },
    {
      "cell_type": "code",
      "metadata": {
        "id": "kGBjXTSVOpPF",
        "colab_type": "code",
        "colab": {
          "base_uri": "https://localhost:8080/",
          "height": 85
        },
        "outputId": "8e90b8d6-c34b-449b-ae63-41b88bfff704"
      },
      "source": [
        "# loading the weights from base_model\n",
        "for layer in loaded_model.layers:\n",
        "  layer_name = layer.name\n",
        "  print(layer.name)\n",
        "  layer.set_weights(layer_dict[layer_name].get_weights())"
      ],
      "execution_count": 36,
      "outputs": [
        {
          "output_type": "stream",
          "text": [
            "flatten\n",
            "dense1\n",
            "dropout\n",
            "dense2\n"
          ],
          "name": "stdout"
        }
      ]
    },
    {
      "cell_type": "code",
      "metadata": {
        "id": "R18AKOWFS4Ml",
        "colab_type": "code",
        "colab": {
          "base_uri": "https://localhost:8080/",
          "height": 289
        },
        "outputId": "989581d6-3c52-4764-8504-71b796da20ef"
      },
      "source": [
        "layer_dict[layer_name].get_weights()"
      ],
      "execution_count": 37,
      "outputs": [
        {
          "output_type": "execute_result",
          "data": {
            "text/plain": [
              "[array([[-0.47275245,  0.10067461, -0.08436214, ...,  0.04099992,\n",
              "          0.18061247,  0.08973061],\n",
              "        [-0.00537717, -0.32434094, -0.37918666, ..., -0.00488442,\n",
              "          0.11360058, -0.2372438 ],\n",
              "        [-0.47799674, -0.26039222,  0.27706173, ..., -0.51480275,\n",
              "         -0.4688644 ,  0.05977516],\n",
              "        ...,\n",
              "        [-0.53242844,  0.00213692,  0.12406264, ...,  0.03461639,\n",
              "          0.26692173,  0.00618991],\n",
              "        [ 0.15864497, -0.41063488, -0.09073453, ..., -0.0584425 ,\n",
              "          0.20724958, -0.04834089],\n",
              "        [-0.43112192,  0.3208452 ,  0.39599177, ...,  0.21944313,\n",
              "         -0.58568865, -0.35774255]], dtype=float32),\n",
              " array([-0.1027576 ,  0.0158944 , -0.04762117, -0.14266469,  0.08217667,\n",
              "        -0.01077904, -0.07067968, -0.04857181,  0.2264693 ,  0.0198027 ],\n",
              "       dtype=float32)]"
            ]
          },
          "metadata": {
            "tags": []
          },
          "execution_count": 37
        }
      ]
    },
    {
      "cell_type": "code",
      "metadata": {
        "id": "Ge95ZfHvOz0J",
        "colab_type": "code",
        "colab": {
          "base_uri": "https://localhost:8080/",
          "height": 51
        },
        "outputId": "7d1c8ce2-e5fc-4119-ee1b-9c0cc801d012"
      },
      "source": [
        "# check the evaluation before and after are same\n",
        "loaded_model.evaluate(x_test, y_test)"
      ],
      "execution_count": 38,
      "outputs": [
        {
          "output_type": "stream",
          "text": [
            "10000/10000 [==============================] - 1s 53us/sample - loss: 0.0749 - accuracy: 0.9756\n"
          ],
          "name": "stdout"
        },
        {
          "output_type": "execute_result",
          "data": {
            "text/plain": [
              "[0.0749235017108731, 0.9756]"
            ]
          },
          "metadata": {
            "tags": []
          },
          "execution_count": 38
        }
      ]
    },
    {
      "cell_type": "code",
      "metadata": {
        "id": "1BzFBVHUP2Cs",
        "colab_type": "code",
        "colab": {
          "base_uri": "https://localhost:8080/",
          "height": 683
        },
        "outputId": "a7ca4149-31ca-41ff-ac17-cbeb1a079a58"
      },
      "source": [
        "loaded_model.weights"
      ],
      "execution_count": 28,
      "outputs": [
        {
          "output_type": "execute_result",
          "data": {
            "text/plain": [
              "[<tf.Variable 'dense1_5/kernel:0' shape=(784, 128) dtype=float32, numpy=\n",
              " array([[-0.07497767,  0.06643964,  0.0383826 , ...,  0.06389119,\n",
              "          0.05509873, -0.0433367 ],\n",
              "        [ 0.02283544,  0.07181709,  0.06484554, ...,  0.04714587,\n",
              "         -0.01553886, -0.03683612],\n",
              "        [ 0.06168727, -0.01946748, -0.0749439 , ...,  0.07631098,\n",
              "         -0.06972053,  0.06935648],\n",
              "        ...,\n",
              "        [-0.08016176,  0.05188269, -0.07014988, ...,  0.04606266,\n",
              "         -0.07608803, -0.03082098],\n",
              "        [-0.02935277,  0.02753586, -0.02420852, ...,  0.00702955,\n",
              "          0.00192459, -0.07725525],\n",
              "        [ 0.03336584,  0.07279281, -0.06052596, ..., -0.06546991,\n",
              "         -0.05761086,  0.00590884]], dtype=float32)>,\n",
              " <tf.Variable 'dense1_5/bias:0' shape=(128,) dtype=float32, numpy=\n",
              " array([0., 0., 0., 0., 0., 0., 0., 0., 0., 0., 0., 0., 0., 0., 0., 0., 0.,\n",
              "        0., 0., 0., 0., 0., 0., 0., 0., 0., 0., 0., 0., 0., 0., 0., 0., 0.,\n",
              "        0., 0., 0., 0., 0., 0., 0., 0., 0., 0., 0., 0., 0., 0., 0., 0., 0.,\n",
              "        0., 0., 0., 0., 0., 0., 0., 0., 0., 0., 0., 0., 0., 0., 0., 0., 0.,\n",
              "        0., 0., 0., 0., 0., 0., 0., 0., 0., 0., 0., 0., 0., 0., 0., 0., 0.,\n",
              "        0., 0., 0., 0., 0., 0., 0., 0., 0., 0., 0., 0., 0., 0., 0., 0., 0.,\n",
              "        0., 0., 0., 0., 0., 0., 0., 0., 0., 0., 0., 0., 0., 0., 0., 0., 0.,\n",
              "        0., 0., 0., 0., 0., 0., 0., 0., 0.], dtype=float32)>,\n",
              " <tf.Variable 'dense2_5/kernel:0' shape=(128, 10) dtype=float32, numpy=\n",
              " array([[ 0.19636492, -0.17748539, -0.09263255, ..., -0.10913312,\n",
              "          0.15840493,  0.1850536 ],\n",
              "        [ 0.1341158 ,  0.17405282, -0.16961578, ...,  0.17393677,\n",
              "         -0.01362468,  0.00458032],\n",
              "        [-0.1467912 , -0.1169071 , -0.03559327, ...,  0.04405417,\n",
              "         -0.12519583, -0.08525066],\n",
              "        ...,\n",
              "        [-0.03276974, -0.0666278 ,  0.0120866 , ...,  0.05866785,\n",
              "          0.17413135, -0.15033898],\n",
              "        [-0.04543161, -0.09644624,  0.1137322 , ..., -0.17408955,\n",
              "          0.19646405,  0.1501355 ],\n",
              "        [-0.03033556, -0.18487738,  0.07704501, ..., -0.19546491,\n",
              "          0.04856299, -0.15691954]], dtype=float32)>,\n",
              " <tf.Variable 'dense2_5/bias:0' shape=(10,) dtype=float32, numpy=array([0., 0., 0., 0., 0., 0., 0., 0., 0., 0.], dtype=float32)>]"
            ]
          },
          "metadata": {
            "tags": []
          },
          "execution_count": 28
        }
      ]
    },
    {
      "cell_type": "code",
      "metadata": {
        "id": "0HZ27iJbRg_e",
        "colab_type": "code",
        "colab": {
          "base_uri": "https://localhost:8080/",
          "height": 1000
        },
        "outputId": "7fe90fb2-738d-48db-99ae-a47258792f88"
      },
      "source": [
        "model.weights"
      ],
      "execution_count": 29,
      "outputs": [
        {
          "output_type": "execute_result",
          "data": {
            "text/plain": [
              "[<tf.Variable 'dense1_4/kernel:0' shape=(784, 128) dtype=float32, numpy=\n",
              " array([[-0.0780191 ,  0.05300913, -0.07283192, ..., -0.05428978,\n",
              "         -0.03865045, -0.02055129],\n",
              "        [ 0.07428133, -0.04044281, -0.06939758, ..., -0.03206056,\n",
              "         -0.05746911, -0.03894283],\n",
              "        [ 0.01988082,  0.06437551, -0.05596313, ...,  0.03458891,\n",
              "          0.02757821,  0.0054944 ],\n",
              "        ...,\n",
              "        [ 0.02300761, -0.04811935,  0.02948265, ..., -0.07465199,\n",
              "          0.03527041,  0.01683003],\n",
              "        [ 0.0167757 ,  0.06856143, -0.04437774, ..., -0.04517156,\n",
              "          0.01192071, -0.03033222],\n",
              "        [ 0.02968704,  0.0810136 ,  0.06660468, ..., -0.00855275,\n",
              "          0.04834392,  0.04045607]], dtype=float32)>,\n",
              " <tf.Variable 'dense1_4/bias:0' shape=(128,) dtype=float32, numpy=\n",
              " array([ 0.01334221, -0.01322941,  0.18576555, -0.02684958, -0.02712558,\n",
              "         0.13721676,  0.0083613 , -0.14233507, -0.10852817,  0.00946134,\n",
              "        -0.012976  ,  0.04805706,  0.14982802,  0.09004564, -0.06731404,\n",
              "         0.09368203,  0.04613724,  0.05670908, -0.11978946,  0.03835745,\n",
              "        -0.05694381,  0.06018143,  0.05667501,  0.00315528, -0.01200974,\n",
              "        -0.05604205,  0.16458048, -0.06633697,  0.01878886, -0.0666332 ,\n",
              "         0.14260542, -0.08612401, -0.14629558, -0.0441753 , -0.01819829,\n",
              "         0.2577676 , -0.02250758, -0.09995016,  0.06582457, -0.1365391 ,\n",
              "        -0.15992168, -0.04801018, -0.0727075 , -0.08570699, -0.0099687 ,\n",
              "         0.14563704, -0.02215311, -0.06801011,  0.0494406 , -0.02270417,\n",
              "         0.09608196,  0.04414449,  0.04427264,  0.17326887,  0.08904052,\n",
              "         0.04455446,  0.16313542, -0.0466621 , -0.14932121,  0.12851213,\n",
              "        -0.05711961, -0.01471362,  0.1216054 ,  0.2096446 ,  0.04826945,\n",
              "         0.02721263,  0.05570171,  0.08690903, -0.17151894,  0.02179119,\n",
              "         0.01456911, -0.04335444,  0.1524484 ,  0.17758085, -0.08265459,\n",
              "        -0.02319697, -0.03118297, -0.19610362, -0.07459491, -0.21503805,\n",
              "         0.12177499, -0.01929851, -0.05618763, -0.04412518, -0.12465309,\n",
              "        -0.02498977,  0.03586845, -0.01662852,  0.20902367,  0.0299388 ,\n",
              "         0.00381344,  0.10359738,  0.06771343, -0.04522084,  0.07439515,\n",
              "         0.16240805,  0.05360796,  0.03411223, -0.00544761,  0.02532753,\n",
              "        -0.04429033,  0.06300742,  0.12511969,  0.07977975,  0.08322343,\n",
              "         0.02946015,  0.16249402, -0.01279018,  0.13460924, -0.06651551,\n",
              "         0.01240925,  0.03444153, -0.05717327, -0.09310059,  0.0483062 ,\n",
              "         0.0269808 ,  0.01268989,  0.09723093,  0.13529722, -0.03066874,\n",
              "         0.05076471,  0.03828319,  0.0314451 , -0.05402933, -0.01638489,\n",
              "         0.0093643 ,  0.09044543,  0.08706259], dtype=float32)>,\n",
              " <tf.Variable 'dense2_4/kernel:0' shape=(128, 10) dtype=float32, numpy=\n",
              " array([[-0.47275245,  0.10067461, -0.08436214, ...,  0.04099992,\n",
              "          0.18061247,  0.08973061],\n",
              "        [-0.00537717, -0.32434094, -0.37918666, ..., -0.00488442,\n",
              "          0.11360058, -0.2372438 ],\n",
              "        [-0.47799674, -0.26039222,  0.27706173, ..., -0.51480275,\n",
              "         -0.4688644 ,  0.05977516],\n",
              "        ...,\n",
              "        [-0.53242844,  0.00213692,  0.12406264, ...,  0.03461639,\n",
              "          0.26692173,  0.00618991],\n",
              "        [ 0.15864497, -0.41063488, -0.09073453, ..., -0.0584425 ,\n",
              "          0.20724958, -0.04834089],\n",
              "        [-0.43112192,  0.3208452 ,  0.39599177, ...,  0.21944313,\n",
              "         -0.58568865, -0.35774255]], dtype=float32)>,\n",
              " <tf.Variable 'dense2_4/bias:0' shape=(10,) dtype=float32, numpy=\n",
              " array([-0.1027576 ,  0.0158944 , -0.04762117, -0.14266469,  0.08217667,\n",
              "        -0.01077904, -0.07067968, -0.04857181,  0.2264693 ,  0.0198027 ],\n",
              "       dtype=float32)>]"
            ]
          },
          "metadata": {
            "tags": []
          },
          "execution_count": 29
        }
      ]
    }
  ]
}