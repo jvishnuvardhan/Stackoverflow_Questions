{
  "nbformat": 4,
  "nbformat_minor": 0,
  "metadata": {
    "colab": {
      "name": "Mnist.ipynb",
      "provenance": [],
      "authorship_tag": "ABX9TyMbMmMUe/cdYiDxu1REONky",
      "include_colab_link": true
    },
    "kernelspec": {
      "name": "python3",
      "display_name": "Python 3"
    }
  },
  "cells": [
    {
      "cell_type": "markdown",
      "metadata": {
        "id": "view-in-github",
        "colab_type": "text"
      },
      "source": [
        "<a href=\"https://colab.research.google.com/github/jvishnuvardhan/Stackoverflow_Questions/blob/master/Mnist.ipynb\" target=\"_parent\"><img src=\"https://colab.research.google.com/assets/colab-badge.svg\" alt=\"Open In Colab\"/></a>"
      ]
    },
    {
      "cell_type": "code",
      "metadata": {
        "id": "I8B3M0e0VUPn",
        "colab_type": "code",
        "colab": {
          "base_uri": "https://localhost:8080/",
          "height": 785
        },
        "outputId": "91a6b155-8f3e-4374-b2ac-6d5f33ebcd79"
      },
      "source": [
        "!pip install tf-nightly"
      ],
      "execution_count": 1,
      "outputs": [
        {
          "output_type": "stream",
          "text": [
            "Collecting tf-nightly\n",
            "\u001b[?25l  Downloading https://files.pythonhosted.org/packages/be/76/42a2abf70a6d7d50c63c515ee68a14cded571908ac6b6a5a78f68ead7148/tf_nightly-2.2.0.dev20200408-cp36-cp36m-manylinux2010_x86_64.whl (517.5MB)\n",
            "\u001b[K     |████████████████████████████████| 517.5MB 29kB/s \n",
            "\u001b[?25hRequirement already satisfied: wrapt>=1.11.1 in /usr/local/lib/python3.6/dist-packages (from tf-nightly) (1.12.1)\n",
            "Requirement already satisfied: scipy==1.4.1; python_version >= \"3\" in /usr/local/lib/python3.6/dist-packages (from tf-nightly) (1.4.1)\n",
            "Requirement already satisfied: numpy<2.0,>=1.16.0 in /usr/local/lib/python3.6/dist-packages (from tf-nightly) (1.18.2)\n",
            "Requirement already satisfied: protobuf>=3.9.2 in /usr/local/lib/python3.6/dist-packages (from tf-nightly) (3.10.0)\n",
            "Requirement already satisfied: termcolor>=1.1.0 in /usr/local/lib/python3.6/dist-packages (from tf-nightly) (1.1.0)\n",
            "Requirement already satisfied: opt-einsum>=2.3.2 in /usr/local/lib/python3.6/dist-packages (from tf-nightly) (3.2.0)\n",
            "Requirement already satisfied: wheel>=0.26; python_version >= \"3\" in /usr/local/lib/python3.6/dist-packages (from tf-nightly) (0.34.2)\n",
            "Requirement already satisfied: h5py<2.11.0,>=2.10.0 in /usr/local/lib/python3.6/dist-packages (from tf-nightly) (2.10.0)\n",
            "Requirement already satisfied: grpcio>=1.8.6 in /usr/local/lib/python3.6/dist-packages (from tf-nightly) (1.27.2)\n",
            "Requirement already satisfied: google-pasta>=0.1.8 in /usr/local/lib/python3.6/dist-packages (from tf-nightly) (0.2.0)\n",
            "Requirement already satisfied: astunparse==1.6.3 in /usr/local/lib/python3.6/dist-packages (from tf-nightly) (1.6.3)\n",
            "Requirement already satisfied: keras-preprocessing>=1.1.0 in /usr/local/lib/python3.6/dist-packages (from tf-nightly) (1.1.0)\n",
            "Requirement already satisfied: six>=1.12.0 in /usr/local/lib/python3.6/dist-packages (from tf-nightly) (1.12.0)\n",
            "Collecting tb-nightly<2.4.0a0,>=2.3.0a0\n",
            "\u001b[?25l  Downloading https://files.pythonhosted.org/packages/2e/70/874df1f50c16f1203ac4044c8fdf061932a955cb825b27d74f1a9b4c66df/tb_nightly-2.3.0a20200408-py3-none-any.whl (3.0MB)\n",
            "\u001b[K     |████████████████████████████████| 3.0MB 36.4MB/s \n",
            "\u001b[?25hRequirement already satisfied: gast==0.3.3 in /usr/local/lib/python3.6/dist-packages (from tf-nightly) (0.3.3)\n",
            "Requirement already satisfied: absl-py>=0.7.0 in /usr/local/lib/python3.6/dist-packages (from tf-nightly) (0.9.0)\n",
            "Collecting tf-estimator-nightly\n",
            "\u001b[33m  WARNING: Retrying (Retry(total=4, connect=None, read=None, redirect=None, status=None)) after connection broken by 'ReadTimeoutError(\"HTTPSConnectionPool(host='files.pythonhosted.org', port=443): Read timed out. (read timeout=15)\",)': /packages/e2/ab/9f69dda13e7bd6ac9afc988b922ff53f6cc29716974898a428d3e0531a84/tf_estimator_nightly-2.3.0.dev2020040801-py2.py3-none-any.whl\u001b[0m\n",
            "\u001b[?25l  Downloading https://files.pythonhosted.org/packages/e2/ab/9f69dda13e7bd6ac9afc988b922ff53f6cc29716974898a428d3e0531a84/tf_estimator_nightly-2.3.0.dev2020040801-py2.py3-none-any.whl (455kB)\n",
            "\u001b[K     |████████████████████████████████| 460kB 2.8MB/s \n",
            "\u001b[?25hRequirement already satisfied: setuptools in /usr/local/lib/python3.6/dist-packages (from protobuf>=3.9.2->tf-nightly) (46.1.3)\n",
            "Requirement already satisfied: google-auth<2,>=1.6.3 in /usr/local/lib/python3.6/dist-packages (from tb-nightly<2.4.0a0,>=2.3.0a0->tf-nightly) (1.7.2)\n",
            "Requirement already satisfied: requests<3,>=2.21.0 in /usr/local/lib/python3.6/dist-packages (from tb-nightly<2.4.0a0,>=2.3.0a0->tf-nightly) (2.21.0)\n",
            "Requirement already satisfied: google-auth-oauthlib<0.5,>=0.4.1 in /usr/local/lib/python3.6/dist-packages (from tb-nightly<2.4.0a0,>=2.3.0a0->tf-nightly) (0.4.1)\n",
            "Requirement already satisfied: markdown>=2.6.8 in /usr/local/lib/python3.6/dist-packages (from tb-nightly<2.4.0a0,>=2.3.0a0->tf-nightly) (3.2.1)\n",
            "Requirement already satisfied: werkzeug>=0.11.15 in /usr/local/lib/python3.6/dist-packages (from tb-nightly<2.4.0a0,>=2.3.0a0->tf-nightly) (1.0.1)\n",
            "Requirement already satisfied: tensorboard-plugin-wit>=1.6.0 in /usr/local/lib/python3.6/dist-packages (from tb-nightly<2.4.0a0,>=2.3.0a0->tf-nightly) (1.6.0.post2)\n",
            "Requirement already satisfied: pyasn1-modules>=0.2.1 in /usr/local/lib/python3.6/dist-packages (from google-auth<2,>=1.6.3->tb-nightly<2.4.0a0,>=2.3.0a0->tf-nightly) (0.2.8)\n",
            "Requirement already satisfied: rsa<4.1,>=3.1.4 in /usr/local/lib/python3.6/dist-packages (from google-auth<2,>=1.6.3->tb-nightly<2.4.0a0,>=2.3.0a0->tf-nightly) (4.0)\n",
            "Requirement already satisfied: cachetools<3.2,>=2.0.0 in /usr/local/lib/python3.6/dist-packages (from google-auth<2,>=1.6.3->tb-nightly<2.4.0a0,>=2.3.0a0->tf-nightly) (3.1.1)\n",
            "Requirement already satisfied: certifi>=2017.4.17 in /usr/local/lib/python3.6/dist-packages (from requests<3,>=2.21.0->tb-nightly<2.4.0a0,>=2.3.0a0->tf-nightly) (2019.11.28)\n",
            "Requirement already satisfied: chardet<3.1.0,>=3.0.2 in /usr/local/lib/python3.6/dist-packages (from requests<3,>=2.21.0->tb-nightly<2.4.0a0,>=2.3.0a0->tf-nightly) (3.0.4)\n",
            "Requirement already satisfied: urllib3<1.25,>=1.21.1 in /usr/local/lib/python3.6/dist-packages (from requests<3,>=2.21.0->tb-nightly<2.4.0a0,>=2.3.0a0->tf-nightly) (1.24.3)\n",
            "Requirement already satisfied: idna<2.9,>=2.5 in /usr/local/lib/python3.6/dist-packages (from requests<3,>=2.21.0->tb-nightly<2.4.0a0,>=2.3.0a0->tf-nightly) (2.8)\n",
            "Requirement already satisfied: requests-oauthlib>=0.7.0 in /usr/local/lib/python3.6/dist-packages (from google-auth-oauthlib<0.5,>=0.4.1->tb-nightly<2.4.0a0,>=2.3.0a0->tf-nightly) (1.3.0)\n",
            "Requirement already satisfied: pyasn1<0.5.0,>=0.4.6 in /usr/local/lib/python3.6/dist-packages (from pyasn1-modules>=0.2.1->google-auth<2,>=1.6.3->tb-nightly<2.4.0a0,>=2.3.0a0->tf-nightly) (0.4.8)\n",
            "Requirement already satisfied: oauthlib>=3.0.0 in /usr/local/lib/python3.6/dist-packages (from requests-oauthlib>=0.7.0->google-auth-oauthlib<0.5,>=0.4.1->tb-nightly<2.4.0a0,>=2.3.0a0->tf-nightly) (3.1.0)\n",
            "Installing collected packages: tb-nightly, tf-estimator-nightly, tf-nightly\n",
            "Successfully installed tb-nightly-2.3.0a20200408 tf-estimator-nightly-2.3.0.dev2020040801 tf-nightly-2.2.0.dev20200408\n"
          ],
          "name": "stdout"
        }
      ]
    },
    {
      "cell_type": "code",
      "metadata": {
        "id": "67CcB1OhVdQ9",
        "colab_type": "code",
        "colab": {}
      },
      "source": [
        "import tensorflow as tf"
      ],
      "execution_count": 0,
      "outputs": []
    },
    {
      "cell_type": "code",
      "metadata": {
        "id": "SdK4jm_OVWYB",
        "colab_type": "code",
        "colab": {
          "base_uri": "https://localhost:8080/",
          "height": 391
        },
        "outputId": "980764d4-56ca-4ac6-f845-494081b28667"
      },
      "source": [
        "from PIL import Image\n",
        "from tensorflow.keras import datasets, layers, models\n",
        "from tensorflow.keras.layers import Dense, Dropout, Flatten\n",
        "import matplotlib.pyplot as plt\n",
        "import numpy as np\n",
        "import keras\n",
        "\n",
        "(X_train, y_train), (X_test, y_test) = tf.keras.datasets.mnist.load_data()\n",
        "X_train = X_train/255\n",
        "X_test = X_test/255\n",
        "X_train_processed = np.reshape(X_train,[X_train.shape[0],X_train.shape[1],X_train.shape[2],1])\n",
        "X_test_processed = np.reshape(X_test,[X_test.shape[0],X_test.shape[1],X_test.shape[2],1])\n",
        "X_train_processed = np.pad(X_train_processed, ((0,0),(2,2),(2,2),(0,0)), 'constant')\n",
        "X_test_processed = np.pad(X_test_processed, ((0,0),(2,2),(2,2),(0,0)), 'constant')\n",
        "\n",
        "X_train_processed = tf.image.resize(\n",
        "    images = X_train_processed,\n",
        "    size = np.array([32,32])\n",
        "\n",
        ")\n",
        "X_test_processed = tf.image.resize(\n",
        "    images = X_test_processed,\n",
        "    size = np.array([32,32])\n",
        "\n",
        ")\n",
        "Y_train_processed = tf.one_hot(y_train,10)\n",
        "Y_test_processed = tf.one_hot(y_test,10)\n",
        "\n",
        "Lnet = tf.keras.Sequential()\n",
        "#First Layer\n",
        "Lnet.add(\n",
        "    tf.keras.layers.Conv2D(\n",
        "        filters = 6, \n",
        "        kernel_size = (5,5), \n",
        "        strides = (1,1), \n",
        "        padding = 'valid', \n",
        "        activation = 'relu', \n",
        "        #kernel_initializer = keras.initializers.glorot_normal(seed=0)\n",
        "    )\n",
        ")\n",
        "Lnet.add(\n",
        "    tf.keras.layers.AveragePooling2D(\n",
        "        pool_size = (2,2),\n",
        "        strides = (2,2),\n",
        "        padding = 'valid'\n",
        "    )\n",
        ")\n",
        "#Second Layer\n",
        "Lnet.add(\n",
        "    tf.keras.layers.Conv2D(\n",
        "        filters = 16, \n",
        "        kernel_size = (5,5), \n",
        "        strides = (1,1), \n",
        "        padding = 'valid', \n",
        "        activation = 'relu'#, \n",
        "        #kernel_initializer = keras.initializers.glorot_normal(seed=0)\n",
        "    )\n",
        ")\n",
        "Lnet.add(\n",
        "    tf.keras.layers.AveragePooling2D(\n",
        "        pool_size = (2,2),\n",
        "        strides = (2,2),\n",
        "        padding = 'valid'\n",
        "    )\n",
        ")\n",
        "Lnet.add(tf.keras.layers.Flatten())\n",
        "Lnet.add(\n",
        "    tf.keras.layers.Dense(\n",
        "        units = 120,\n",
        "        activation = 'relu'\n",
        "    )\n",
        ")\n",
        "Lnet.add(tf.keras.layers.Flatten())\n",
        "Lnet.add(\n",
        "    tf.keras.layers.Dense(\n",
        "        units = 84,\n",
        "        activation = 'relu'\n",
        "    )\n",
        ")\n",
        "Lnet.add(\n",
        "    tf.keras.layers.Dense(\n",
        "        units = 10,\n",
        "        activation = 'softmax'\n",
        "    )\n",
        ")\n",
        "\n",
        "Lnet.compile(\n",
        "    loss = tf.keras.losses.categorical_crossentropy,\n",
        "    optimizer = 'Adam',\n",
        "    metrics = ['accuracy']\n",
        ")\n",
        "\n",
        "Lnet.fit(\n",
        "    x = X_train_processed,\n",
        "    y = Y_train_processed,\n",
        "    batch_size = 128,\n",
        "    epochs = 10,\n",
        ")\n",
        "\n",
        "score = Lnet.evaluate(\n",
        "    x = X_test_processed,\n",
        "    y = Y_test_processed\n",
        ")\n",
        "print(score[1])"
      ],
      "execution_count": 6,
      "outputs": [
        {
          "output_type": "stream",
          "text": [
            "Epoch 1/10\n",
            "469/469 [==============================] - 31s 66ms/step - loss: 0.3732 - accuracy: 0.8877\n",
            "Epoch 2/10\n",
            "469/469 [==============================] - 30s 63ms/step - loss: 0.1065 - accuracy: 0.9682\n",
            "Epoch 3/10\n",
            "469/469 [==============================] - 30s 63ms/step - loss: 0.0734 - accuracy: 0.9777\n",
            "Epoch 4/10\n",
            "469/469 [==============================] - 30s 63ms/step - loss: 0.0587 - accuracy: 0.9820\n",
            "Epoch 5/10\n",
            "469/469 [==============================] - 30s 64ms/step - loss: 0.0462 - accuracy: 0.9857\n",
            "Epoch 6/10\n",
            "469/469 [==============================] - 30s 64ms/step - loss: 0.0393 - accuracy: 0.9874\n",
            "Epoch 7/10\n",
            "469/469 [==============================] - 30s 64ms/step - loss: 0.0333 - accuracy: 0.9891\n",
            "Epoch 8/10\n",
            "469/469 [==============================] - 30s 64ms/step - loss: 0.0297 - accuracy: 0.9901\n",
            "Epoch 9/10\n",
            "469/469 [==============================] - 30s 64ms/step - loss: 0.0260 - accuracy: 0.9916\n",
            "Epoch 10/10\n",
            "469/469 [==============================] - 30s 64ms/step - loss: 0.0239 - accuracy: 0.9922\n",
            "313/313 [==============================] - 3s 10ms/step - loss: 0.0394 - accuracy: 0.9876\n",
            "0.9876000285148621\n"
          ],
          "name": "stdout"
        }
      ]
    },
    {
      "cell_type": "code",
      "metadata": {
        "id": "0AYGSjjDVZN8",
        "colab_type": "code",
        "colab": {}
      },
      "source": [
        ""
      ],
      "execution_count": 0,
      "outputs": []
    }
  ]
}